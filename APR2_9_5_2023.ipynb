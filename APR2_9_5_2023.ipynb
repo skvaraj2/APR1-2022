{
  "nbformat": 4,
  "nbformat_minor": 0,
  "metadata": {
    "colab": {
      "provenance": [],
      "authorship_tag": "ABX9TyNjJpk1wuego6Mj4YSQEjNc",
      "include_colab_link": true
    },
    "kernelspec": {
      "name": "python3",
      "display_name": "Python 3"
    },
    "language_info": {
      "name": "python"
    }
  },
  "cells": [
    {
      "cell_type": "markdown",
      "metadata": {
        "id": "view-in-github",
        "colab_type": "text"
      },
      "source": [
        "<a href=\"https://colab.research.google.com/github/skvaraj2/APR1-2022/blob/main/APR2_9_5_2023.ipynb\" target=\"_parent\"><img src=\"https://colab.research.google.com/assets/colab-badge.svg\" alt=\"Open In Colab\"/></a>"
      ]
    },
    {
      "cell_type": "code",
      "execution_count": null,
      "metadata": {
        "id": "mGxboQ-XAdca"
      },
      "outputs": [],
      "source": [
        "#QuadTree\n",
        "\n",
        "# Základní třídy\n",
        "#1) Body (možná)\n",
        "  #=>x\n",
        "  #=>y\n",
        "  #metoda\n",
        "    #=> vzdalenost bodů  rij=(x_i-x_j, y_i-y_j) => \n",
        "    #   => sqrt(sum(rij**2)) => sqrt((x_i-x_j)**2 + (y_i-y_j)**2)\n",
        "#2) Uzel\n",
        "  # => hodnota (souřadnice uloženého bodu) => seznam bodů\n",
        "  # => A,B,C,D (souřadnice vrcholů uzlu)\n",
        "  # => stred (souřadnice středu uzlu)\n",
        "  # => NW, NE, SW, SE (čtveřice potomků)\n",
        "  #metoda:\n",
        "    #=> obsahuje_bod\n",
        "\n",
        "#3) CtyrStrom\n",
        "  #=> koren stromu (uzel obsahující informace o základní geometrii rozkládaného prostoru)\n",
        "  #=> hloubka stromu\n",
        "  # => maximálni_kapacita_uzlů\n",
        "  #metody:\n",
        "  # => přidej bod\n",
        "  # => rozdel_uzel => (ve chvíli, kdy počet bodů v uzlu je větší než maximální kapacita,\n",
        "  # rozdělíme uzel na čtyři potomky, potomkům se předají všechny body rodiče, \n",
        "  # a u každého potomka opět kontrolujeme zda nedošlo k překročení maximální kapacity)\n",
        "  # => vykresli \n",
        "  # => vyhledej bod\n",
        "  # => vyhledej seznam bodů v okolí\n",
        "  \n"
      ]
    },
    {
      "cell_type": "code",
      "source": [
        "import math\n",
        "class Bod:\n",
        "  def __init__(self,x,y):\n",
        "    self.x=x\n",
        "    self.y=y\n",
        "  \n",
        "  def vzdalenost(self, bod2):\n",
        "    return math.sqrt((bod2.x-self.x)**2 + (bod2.y-self.y)**2)\n",
        "\n",
        "class Uzel:\n",
        "  def __init__(self, a, b, c, d, bod=None):\n",
        "    self.A=a #levy horní\n",
        "    self.B=b\n",
        "    self.C=c\n",
        "    self.D=d # levy dolní\n",
        "    self.stred = Bod((a.x+b.x)/2.0,(a.y+d.y)/2.0) # těžiště oblasti (průměr souřadnic x,y)  \n",
        "    self.hodnota = bod\n",
        "    #potomci\n",
        "    self.NW=None\n",
        "    self.NE=None\n",
        "    self.SE=None\n",
        "    self.SW=None\n",
        "    self.jeListem=True\n",
        "\n",
        "  def obsahuje_bod(self, bod):\n",
        "    \"\"\"Metoda vrací True, pokud tento uzel obsahuje hledaný bod\"\"\"\n",
        "    return ((bod.x > self.A.x and bod.x < self.B.x) and \n",
        "     (bod.y > self.D.y and bod.y < self.A.y))\n",
        "\n",
        "  def rozdel_uzel(self):\n",
        "    bod1=Bod(self.stred.x,self.A.y)\n",
        "    bod2=Bod(self.B.x, self.stred.y)\n",
        "    bod3=Bod(self.stred.x,self.D.y)\n",
        "    bod4=Bod(self.A.x,self.stred.y)\n",
        "    self.NW = Uzel(self.A,bod1,self.stred,bod4)\n",
        "    self.NE = Uzel(bod1,self.B,bod2,self.stred)\n",
        "    self.SE = Uzel(self.stred,bod2, self.C, bod3)\n",
        "    self.SW = Uzel(bod4, self.stred, bod3, self.D)\n",
        "    self.jeListem=False\n",
        "    \n",
        "\n",
        "class CtyrStrom:\n",
        "  def __init__(self, a, b, c, d):\n",
        "    self.koren= Uzel(a,b,c,d)\n",
        "    self.hloubka= 0\n",
        "  \n",
        "  def pridej_bod(self, bod):\n",
        "    if self.koren.obsahuje_bod(bod):\n",
        "      if self.koren.jeListem: \n",
        "        # bud nemá bod\n",
        "        if self.koren.hodnota is None:\n",
        "          self.koren.hodnota=bod\n",
        "        else: #pokud už hodnotu má, nemůžeme vkládat novou a musíme uzel rozctvrtit\n",
        "          self.koren.rozdel_uzel()\n",
        "          # pokusíme se vložit bod znovu do jeho potomů => rekurzivně \n",
        "      else:\n",
        "        #zavoláme rekurzivní metodu na jeho potomky\n",
        "        if self.koren.NW.obsahuje_bod(bod):\n",
        "          self.koren=self.pridej_bod_rodici(self, bod, self.koren.NW)\n",
        "        elif self.koren.NE.obsahuje_bod(bod):\n",
        "          self.koren=self.pridej_bod_rodici(self, bod, self.koren.NE)\n",
        "        elif self.koren.SE.obsahuje_bod(bod):\n",
        "          self.koren=self.pridej_bod_rodici(self, bod, self.koren.SE)\n",
        "        else:\n",
        "          self.koren=self.pridej_bod_rodici(self, bod, self.koren.SW)\n",
        "    else:\n",
        "      raise Exception(\"Bod se nevyskytuje v zadané oblasti!!!\")\n",
        "  \n",
        "\n",
        "  def pridej_bod_rodici(self, bod, rodic):\n",
        "    if rodic.obsahuje_bod(bod):\n",
        "      pass\n",
        "      return rodic\n",
        "    else:\n",
        "      return None\n",
        "\n",
        "  def vykresli_strom(self):\n",
        "    pass"
      ],
      "metadata": {
        "id": "h1MpQoLjJnjj"
      },
      "execution_count": null,
      "outputs": []
    },
    {
      "cell_type": "code",
      "source": [],
      "metadata": {
        "id": "2fl6B-bsSde_"
      },
      "execution_count": null,
      "outputs": []
    }
  ]
}