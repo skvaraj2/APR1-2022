{
  "nbformat": 4,
  "nbformat_minor": 0,
  "metadata": {
    "colab": {
      "provenance": [],
      "authorship_tag": "ABX9TyMpZJM7HnAc7HjH/TbGFJ4d",
      "include_colab_link": true
    },
    "kernelspec": {
      "name": "python3",
      "display_name": "Python 3"
    },
    "language_info": {
      "name": "python"
    }
  },
  "cells": [
    {
      "cell_type": "markdown",
      "metadata": {
        "id": "view-in-github",
        "colab_type": "text"
      },
      "source": [
        "<a href=\"https://colab.research.google.com/github/skvaraj2/APR1-2022/blob/main/APR_18_11_2022.ipynb\" target=\"_parent\"><img src=\"https://colab.research.google.com/assets/colab-badge.svg\" alt=\"Open In Colab\"/></a>"
      ]
    },
    {
      "cell_type": "code",
      "execution_count": null,
      "metadata": {
        "id": "dBp79KDTAHIW"
      },
      "outputs": [],
      "source": [
        "#black jack => snažím se jako hráč brát od počítače karty tak, abychom se přiblížili součtu 21\n",
        "# při překročení 21 prohrajeme\n",
        "# v cyklu se nás program zeptá, zda chceme kartu a nebo chceme skončit\n",
        "# pokud končíme => spočítá součet karet, sám si vygeneruje náhodně číslo 1-21 a porovná s naším součtem\n",
        "# pokud pokračujeme, náhodně vygeneruje kartu (vybere ji ze seznamu karet)\n",
        "# kontroluje zda jsme s novou kartou nepřekročili součet 21\n",
        "\n",
        "#J =>10\n",
        "#Q =>10\n",
        "#K =>10\n",
        "#A => 1 nebo 11 dle potřeby \n",
        "\n",
        "import random\n",
        "\n",
        "\n",
        "def secti_karty(kartyKSecteni):\n",
        "  soucet=0\n",
        "  esa=[]\n",
        "  # soucet bez karet A\n",
        "  for i in range(len(kartyKSecteni)):\n",
        "    if(type(kartyKSecteni[i])==int): # pokud karta na indexu i je číslo, můžeme ji rovnou sečíst\n",
        "      soucet+=kartyKSecteni[i]\n",
        "    else:\n",
        "      if kartyKSecteni[i] in [\"J\",\"Q\",\"K\"]: # vrací True, pokud aktuální karta patří do seznamu J,Q,K\n",
        "        soucet+=10\n",
        "      else: # poslední možnost, na ruce máme Eso => 1 nebo 11\n",
        "        esa.append(kartyKSecteni[i])\n",
        "\n",
        "  #soucet Acek\n",
        "  for i in range(len(esa)): #naivní přičítání A\n",
        "    if(soucet+11) >= 21:\n",
        "      soucet+=1\n",
        "    else:\n",
        "      soucet+=11\n",
        "\n",
        "  return soucet\n",
        "\n",
        "\n",
        "\n",
        "karty=[2,3,4,5,6,7,8,9,10,\"J\",\"Q\",\"K\",\"A\"]\n",
        "\n",
        "moje_karty=[] #karty, které jsme si vytáhli\n",
        "\n",
        "while True: # vytvoření nekonečného cyklu\n",
        "  odpoved=input(\"Chcete kartu?\") # odpoved ano nebo ne\n",
        "  if(odpoved==\"ano\"):\n",
        "    #vygeneruje se náhodná karta\n",
        "    moje_karty.append(karty[random.randint(0,len(karty)-1)])\n",
        "    hodnota=secti_karty(moje_karty)\n",
        "    if  hodnota > 21:\n",
        "      print(f\"Součet Vašich karet je {hodnota}. Bohužel jste prohrál a Vaše peníze bere Casino. Nemáte-li na zaplacení dluhu, s radostí Vám zlomíme nohy\")\n",
        "      break\n",
        "    else:\n",
        "      print(f\"Součet Vašich karet je {hodnota}.\",moje_karty)\n",
        "  else:\n",
        "    hodnota=secti_karty(moje_karty)\n",
        "    hodnota_protihrace=random.randint(1,21)\n",
        "    if(hodnota > hodnota_protihrace ):\n",
        "      print(\"Gratulujeme, vyhrál jste\")\n",
        "    else:\n",
        "      print(\"Gratulujeme, prohrál jste. Nyní zaplaťte!\")\n",
        "    #spočítat součet mých karet\n",
        "    #protihráč si generuje vlastní součet karet\n",
        "    break # po vyhodnocení cyklus končí\n"
      ]
    },
    {
      "cell_type": "code",
      "source": [],
      "metadata": {
        "id": "MA-MqYjnAOB_"
      },
      "execution_count": null,
      "outputs": []
    },
    {
      "cell_type": "code",
      "source": [
        "text = input(\"Zadejte text\")\n",
        "cislo = int(input(\"Zadejte počet opakování\"))\n",
        "\n",
        "novy_text=\"\"\n",
        "\n",
        "for i in range(cislo):\n",
        "  novy_text+=text+\" \"\n",
        "\n",
        "print(novy_text)"
      ],
      "metadata": {
        "colab": {
          "base_uri": "https://localhost:8080/"
        },
        "id": "lQS6gTXSSAEd",
        "outputId": "38278cae-9883-4735-8987-b1d2904f778f"
      },
      "execution_count": null,
      "outputs": [
        {
          "output_type": "stream",
          "name": "stdout",
          "text": [
            "Zadejte texttext\n",
            "Zadejte počet opakování4\n",
            "text text text text \n"
          ]
        }
      ]
    },
    {
      "cell_type": "code",
      "source": [
        "print((text+\" \")*cislo)"
      ],
      "metadata": {
        "colab": {
          "base_uri": "https://localhost:8080/"
        },
        "id": "87jL89dCSkrs",
        "outputId": "37eabc80-309b-4135-e1e1-43845836cf07"
      },
      "execution_count": null,
      "outputs": [
        {
          "output_type": "stream",
          "name": "stdout",
          "text": [
            "text text text text text \n"
          ]
        }
      ]
    },
    {
      "cell_type": "code",
      "source": [
        "s1=[\"a\",\"b\",\"h\",\"z\",\"3\"]\n",
        "s2=[\"h\",\"z\",\"2\",\"5\",\"c\"]\n",
        "\n",
        "pocet=0\n",
        "\n",
        "for znak1 in s1:\n",
        "  for znak2 in s2:\n",
        "    if znak1==znak2:\n",
        "      pocet+=1\n",
        "      break\n",
        "\n",
        "print(pocet)"
      ],
      "metadata": {
        "colab": {
          "base_uri": "https://localhost:8080/"
        },
        "id": "oY-4c2AkSvFc",
        "outputId": "ad7901e0-28f2-4a52-e2ee-a9a8b16fde01"
      },
      "execution_count": null,
      "outputs": [
        {
          "output_type": "stream",
          "name": "stdout",
          "text": [
            "2\n"
          ]
        }
      ]
    },
    {
      "cell_type": "code",
      "source": [
        "s1=[\"a\",\"b\",\"h\",\"z\",\"3\"]\n",
        "s2=[\"h\",\"z\",\"2\",\"5\",\"c\"]\n",
        "\n",
        "pocet=0\n",
        "\n",
        "for znak1 in s1:\n",
        "  if znak1 in s2:\n",
        "    pocet+=1\n",
        "\n",
        "print(pocet)"
      ],
      "metadata": {
        "colab": {
          "base_uri": "https://localhost:8080/"
        },
        "id": "WOD9KU8JTV4N",
        "outputId": "149dd7dc-8603-4b49-d1f1-213c7edf5c9d"
      },
      "execution_count": null,
      "outputs": [
        {
          "output_type": "stream",
          "name": "stdout",
          "text": [
            "2\n"
          ]
        }
      ]
    },
    {
      "cell_type": "code",
      "source": [
        "n=10 # int(input(\"Zadejte počet opakování\"))\n",
        "for i in range(n):\n",
        "  cislo= int(input(\"zadejte celé číslo\"))\n",
        "  if cislo % 2==0:\n",
        "    print(\"Cislo je sudé\")\n",
        "  else:\n",
        "    print(\"Cislo je liché\")\n",
        "\n",
        "    "
      ],
      "metadata": {
        "id": "oiUKwC_PTrTt"
      },
      "execution_count": null,
      "outputs": []
    },
    {
      "cell_type": "code",
      "source": [
        "zapovezeneZnaky=[\"a\",\"e\",\"i\",\"o\",\"u\"]\n",
        "text=\"Nobody expects the Spanish Inquisition!\"\n",
        "\n",
        "seznam=[]\n",
        "\n",
        "for pismeno in text:\n",
        "  if not pismeno in zapovezeneZnaky:\n",
        "    seznam.append(pismeno)\n",
        "\n",
        "print(seznam)\n"
      ],
      "metadata": {
        "colab": {
          "base_uri": "https://localhost:8080/"
        },
        "id": "CPiuG9LBWaTc",
        "outputId": "bf8b9688-4ee8-4f01-9a80-d1c18cdd75e3"
      },
      "execution_count": null,
      "outputs": [
        {
          "output_type": "stream",
          "name": "stdout",
          "text": [
            "['N', 'b', 'd', 'y', ' ', 'x', 'p', 'c', 't', 's', ' ', 't', 'h', ' ', 'S', 'p', 'n', 's', 'h', ' ', 'I', 'n', 'q', 's', 't', 'n', '!']\n"
          ]
        }
      ]
    },
    {
      "cell_type": "code",
      "source": [
        "zapovezeneZnaky=[\"a\",\"e\",\"i\",\"o\",\"u\"]\n",
        "text=\"Nobody expects the Spanish Inquisition!\"\n",
        "\n",
        "seznam=[]\n",
        "for pismeno in text:\n",
        "  if pismeno in zapovezeneZnaky:\n",
        "    #pass\n",
        "    continue\n",
        "  else:\n",
        "    seznam.append(pismeno)\n",
        "  \n",
        "\n",
        "print(seznam)"
      ],
      "metadata": {
        "colab": {
          "base_uri": "https://localhost:8080/"
        },
        "id": "bmE77rxLW6XL",
        "outputId": "c09372bb-e0d1-43bd-e275-7af1e3eab4b5"
      },
      "execution_count": null,
      "outputs": [
        {
          "output_type": "stream",
          "name": "stdout",
          "text": [
            "['N', 'b', 'd', 'y', ' ', 'x', 'p', 'c', 't', 's', ' ', 't', 'h', ' ', 'S', 'p', 'n', 's', 'h', ' ', 'I', 'n', 'q', 's', 't', 'n', '!']\n"
          ]
        }
      ]
    }
  ]
}