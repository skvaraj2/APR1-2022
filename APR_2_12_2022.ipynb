{
  "nbformat": 4,
  "nbformat_minor": 0,
  "metadata": {
    "colab": {
      "provenance": [],
      "authorship_tag": "ABX9TyOUEwJzUcC/IFEOMK8jyQj1",
      "include_colab_link": true
    },
    "kernelspec": {
      "name": "python3",
      "display_name": "Python 3"
    },
    "language_info": {
      "name": "python"
    }
  },
  "cells": [
    {
      "cell_type": "markdown",
      "metadata": {
        "id": "view-in-github",
        "colab_type": "text"
      },
      "source": [
        "<a href=\"https://colab.research.google.com/github/skvaraj2/APR1-2022/blob/main/APR_2_12_2022.ipynb\" target=\"_parent\"><img src=\"https://colab.research.google.com/assets/colab-badge.svg\" alt=\"Open In Colab\"/></a>"
      ]
    },
    {
      "cell_type": "code",
      "execution_count": null,
      "metadata": {
        "colab": {
          "base_uri": "https://localhost:8080/"
        },
        "id": "0xJmvRohGrVn",
        "outputId": "dc580200-f5a7-4dfa-f339-e4bbcdd8b969"
      },
      "outputs": [
        {
          "output_type": "stream",
          "name": "stdout",
          "text": [
            "{'m': 2, 'á': 1, 't': 2, 'e': 2, 's': 1, 'k': 1, 'l': 2, 'p': 1, 'a': 2, 'o': 2, 'h': 3, 'b': 1, 'y': 1, 'c': 1, 'v': 1, 'i': 1, 'd': 1, 'ě': 1}\n"
          ]
        }
      ],
      "source": [
        "# Častější použití vyhledávání písmen v textu\n",
        "# přiklad: frekvenční analýza textu\n",
        "\n",
        "\n",
        "text = \"Máte sklep? A mohla bych ho vidět?\"\n",
        "\n",
        "# 0) nadefinovat prázdný slovník písmen \n",
        "# 1) v cyklu projít přes všechna písmena textu\n",
        "# 2) kontrola zda písmeno patří mezi klíče slovníku\n",
        "# 3) pokud není mezi klíči => nastaví se jako klíč a přiřadí se mu hodnota 1 (první výskyt písmene)\n",
        "# 4) pokud písmeno naopak už je mezi klíči => hodnota klíče se zvýší o jedničku\n",
        "# 5) nakonec vypsat slovník (ideálně ve for cyklu)\n",
        "\n",
        "\n",
        "slovnik={}\n",
        "\n",
        "text=text.lower() # všechna písmena malá\n",
        "\n",
        "for pismeno in text:\n",
        "  if pismeno.isalnum(): # používáme pouze alfanumerické znaky\n",
        "    if pismeno in slovnik.keys():\n",
        "      slovnik[pismeno]+=1\n",
        "    else:\n",
        "      slovnik[pismeno]=1\n",
        "\n",
        "print(slovnik)\n"
      ]
    },
    {
      "cell_type": "code",
      "source": [
        "#napište program, který najde minimální a maximální hodnotu v seznamu\n",
        "\n",
        "seznam=[-20,1,5,0.3,100,7,6,8000,-3,4,42,-42]\n",
        "\n",
        "#print(min(seznam))\n",
        "#print(max(seznam))\n",
        "\n",
        "minimum=1000000 # nesmyslně vysoká hodnota\n",
        "maximum=-1000000\n",
        "\n",
        "\n",
        "for hodnota in seznam:\n",
        "  if hodnota < minimum:\n",
        "    minimum=hodnota\n",
        "  \n",
        "  if hodnota > maximum:\n",
        "    maximum=hodnota\n",
        "\n",
        "print(minimum)  \n",
        "print(maximum)"
      ],
      "metadata": {
        "id": "oh7ETcG-J4qT"
      },
      "execution_count": null,
      "outputs": []
    },
    {
      "cell_type": "code",
      "source": [
        "#seřaďte hodnoty v seznamu\n",
        "#seznam.sort()\n",
        "#print(seznam)\n",
        "\n",
        "seznam=[-20,1,5,0.3,100,7,6,8000,-3,4,42,-42]\n",
        "\n",
        "#naivní přístup => prohazujeme sousední honoty\n",
        "print(seznam)\n",
        "\n",
        "serazeno=False # předpokládáme, že zadaný seznam není seřazený\n",
        "\n",
        "while serazeno==False: # dokud je seznam neseřazeny\n",
        "  serazeno=True # zde měníme předpoklad a říkáme, že seznam považujeme za seřazený\n",
        "  for i in range(len(seznam)-1):\n",
        "    if(seznam[i] > seznam[i+1]):\n",
        "      seznam[i], seznam[i+1] = seznam[i+1], seznam[i]\n",
        "      serazeno=False #najdeme-li nějakou zámenu, kterou je nutné provést, víme, \n",
        "                      # že seznam ještě seřazený nebyl\n",
        "\n",
        "  print(seznam)\n"
      ],
      "metadata": {
        "id": "vGAGiWboLuLy"
      },
      "execution_count": null,
      "outputs": []
    },
    {
      "cell_type": "code",
      "source": [
        "# práce se soubory\n",
        "\n",
        "#otevření soubory\n",
        "\n",
        "soubor = open(\"nas_soubor.txt\",\"w\") # název souboru a mod přístupu\n",
        "#mody:\n",
        "# -> \"w\" -write -> soubor se vytvoří nebo přepíše existující\n",
        "# -> \"r\" - read -> otevře existující soubor jen pro čtení\n",
        "# -> \"a\" - append -> buď přidá nové řádky do existujícího souboru, nebo vytvoří nový soubor\n",
        "\n",
        "soubor.write(\"Toto je první řádek našeho souboru\\r\\n\")\n",
        "soubor.write(\"Toto je druhý řádek našeho souboru \\r\\n\") # \\r\\n => zalomení řádku \n",
        "soubor.write(\"3,14159265 \\t pi \\r\\n\") # \\t -tabulator\n",
        "soubor.close() # zavření souboru "
      ],
      "metadata": {
        "id": "H8QD2zv6T-F3"
      },
      "execution_count": null,
      "outputs": []
    },
    {
      "cell_type": "code",
      "source": [
        "#append\n",
        "soubor=open(\"nas_soubor.txt\",\"a\")\n",
        "soubor.write(\"6,022e23 \\t Na \\r\\n\")\n",
        "soubor.close()"
      ],
      "metadata": {
        "id": "BqgQiCPpWr8m"
      },
      "execution_count": null,
      "outputs": []
    },
    {
      "cell_type": "code",
      "source": [
        "# #znovu write\n",
        "# soubor=open(\"nas_soubor.txt\",\"w\")\n",
        "# soubor.write(\"6,022e23 \\t Na \\r\\n\")\n",
        "# soubor.close()"
      ],
      "metadata": {
        "id": "lmz5-4xnXDVH"
      },
      "execution_count": null,
      "outputs": []
    },
    {
      "cell_type": "code",
      "source": [
        "# čtení ze souborů\n",
        "\n",
        "soubor=open(\"nas_soubor.txt\",\"r\")\n",
        "\n",
        "print(soubor.read(10)) # read načítá definovaný počet znaků jako string\n",
        "\n",
        "soubor.close()"
      ],
      "metadata": {
        "colab": {
          "base_uri": "https://localhost:8080/"
        },
        "id": "YZ2lPNgyXQO1",
        "outputId": "a97c4fbb-1214-4be6-8ebd-80d31c6e3c9f"
      },
      "execution_count": null,
      "outputs": [
        {
          "output_type": "stream",
          "name": "stdout",
          "text": [
            "Toto je pr\n"
          ]
        }
      ]
    },
    {
      "cell_type": "code",
      "source": [
        "# čtení ze souborů\n",
        "\n",
        "soubor=open(\"nas_soubor.txt\",\"r\")\n",
        "\n",
        "print(soubor.readline()) # readline načte jeden řádek\n",
        "print(soubor.readline()) # readline načte jeden řádek\n",
        "print(soubor.readline()) # readline načte jeden řádek\n",
        "soubor.close()"
      ],
      "metadata": {
        "colab": {
          "base_uri": "https://localhost:8080/"
        },
        "id": "BQ_whH3DX5a-",
        "outputId": "5da3bc98-60da-4ed2-c235-51408ff8ad03"
      },
      "execution_count": null,
      "outputs": [
        {
          "output_type": "stream",
          "name": "stdout",
          "text": [
            "Toto je první řádek našeho souboru\n",
            "\n",
            "Toto je druhý řádek našeho souboru \n",
            "\n",
            "3,14159265 \t pi \n",
            "\n"
          ]
        }
      ]
    },
    {
      "cell_type": "code",
      "source": [
        "# čtení ze souborů\n",
        "\n",
        "soubor=open(\"nas_soubor.txt\",\"r\")\n",
        "\n",
        "#print(soubor.readlines())\n",
        "\n",
        "radky=soubor.readlines()\n",
        "\n",
        "for radek in radky:\n",
        "  print(radek, len(radek))\n",
        "\n",
        "soubor.close()"
      ],
      "metadata": {
        "id": "0QtHb5WpYIeF"
      },
      "execution_count": null,
      "outputs": []
    },
    {
      "cell_type": "code",
      "source": [
        "# bezpečný přístup k souborům => automatické zavírání\n",
        "\n",
        "with open(\"nas_soubor.txt\",\"r\") as soubor:\n",
        "  radky=soubor.readlines()\n",
        "  for radek in radky:\n",
        "    print(radek, len(radek))\n",
        "    "
      ],
      "metadata": {
        "id": "6I2_OJafYi_9"
      },
      "execution_count": null,
      "outputs": []
    },
    {
      "cell_type": "code",
      "source": [
        "import matplotlib.pyplot as plt\n"
      ],
      "metadata": {
        "id": "Y9AiRWG3aWcU"
      },
      "execution_count": null,
      "outputs": []
    },
    {
      "cell_type": "code",
      "source": [
        "from typing import Any\n",
        "# Častější použití vyhledávání písmen v textu\n",
        "# přiklad: frekvenční analýza textu\n",
        "import matplotlib.pyplot as plt\n",
        "\n",
        "\n",
        "text = \"Máte sklep? A mohla bych ho vidět?\"\n",
        "\n",
        "# 0) nadefinovat prázdný slovník písmen \n",
        "# 1) v cyklu projít přes všechna písmena textu\n",
        "# 2) kontrola zda písmeno patří mezi klíče slovníku\n",
        "# 3) pokud není mezi klíči => nastaví se jako klíč a přiřadí se mu hodnota 1 (první výskyt písmene)\n",
        "# 4) pokud písmeno naopak už je mezi klíči => hodnota klíče se zvýší o jedničku\n",
        "# 5) nakonec vypsat slovník (ideálně ve for cyklu)\n",
        "\n",
        "\n",
        "slovnik={}\n",
        "\n",
        "text=text.lower() # všechna písmena malá\n",
        "\n",
        "for pismeno in text:\n",
        "  if pismeno.isalnum(): # používáme pouze alfanumerické znaky\n",
        "    if pismeno in slovnik.keys():\n",
        "      slovnik[pismeno]+=1\n",
        "    else:\n",
        "      slovnik[pismeno]=1\n",
        "\n",
        "print(slovnik)\n",
        "\n",
        "hodnoty=slovnik.values()\n",
        "klice=slovnik.keys()\n",
        "\n",
        "plt.pie(hodnoty,labels=klice,shadow=True)\n",
        "plt.show()"
      ],
      "metadata": {
        "colab": {
          "base_uri": "https://localhost:8080/",
          "height": 265
        },
        "id": "A8_ad1DwAT_I",
        "outputId": "837886b3-b43e-479a-b39d-045af62bcb86"
      },
      "execution_count": null,
      "outputs": [
        {
          "output_type": "stream",
          "name": "stdout",
          "text": [
            "{'m': 2, 'á': 1, 't': 2, 'e': 2, 's': 1, 'k': 1, 'l': 2, 'p': 1, 'a': 2, 'o': 2, 'h': 3, 'b': 1, 'y': 1, 'c': 1, 'v': 1, 'i': 1, 'd': 1, 'ě': 1}\n"
          ]
        },
        {
          "output_type": "display_data",
          "data": {
            "text/plain": [
              "<Figure size 432x288 with 1 Axes>"
            ],
            "image/png": "[encoded data removed]"
          },
          "metadata": {}
        }
      ]
    }
  ]
}