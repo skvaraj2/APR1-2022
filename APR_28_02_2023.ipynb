{
  "nbformat": 4,
  "nbformat_minor": 0,
  "metadata": {
    "colab": {
      "provenance": [],
      "authorship_tag": "ABX9TyNej5laM4mUbyMx23wPFG27",
      "include_colab_link": true
    },
    "kernelspec": {
      "name": "python3",
      "display_name": "Python 3"
    },
    "language_info": {
      "name": "python"
    }
  },
  "cells": [
    {
      "cell_type": "markdown",
      "metadata": {
        "id": "view-in-github",
        "colab_type": "text"
      },
      "source": [
        "<a href=\"https://colab.research.google.com/github/skvaraj2/APR1-2022/blob/main/APR_28_02_2023.ipynb\" target=\"_parent\"><img src=\"https://colab.research.google.com/assets/colab-badge.svg\" alt=\"Open In Colab\"/></a>"
      ]
    },
    {
      "cell_type": "code",
      "execution_count": null,
      "metadata": {
        "id": "PNqaHp2HvGxh"
      },
      "outputs": [],
      "source": [
        "#vlastní spojový seznam\n",
        "\n",
        "class Prvek:\n",
        "\n",
        "  def __init__(self,hodnota,nasledujici=None):\n",
        "    self.hodnota=hodnota\n",
        "    self.nasledujici=nasledujici\n",
        "\n",
        "\n",
        "class Seznam:\n",
        "  def __init__(self,hlavicka):\n",
        "    self.hlavicka=Prvek(hlavicka)\n",
        "\n",
        "  def pridej_prvek(self,hodnota):\n",
        "    novy_prvek=Prvek(hodnota)\n",
        "    prvek=self.hlavicka\n",
        "    while prvek.nasledujici is not None: #dokud nenajdeme konec seznamu (neexistující prvek) \n",
        "      prvek=prvek.nasledujici #a přejdi na další prvek\n",
        "\n",
        "    prvek.nasledujici=novy_prvek\n",
        "    # nalézt poslední prvek / prvek.nasledujici==None\n",
        "    # tomuto prvku nastavit prvek.nasledujici=novy_prvek\n",
        "\n",
        "  def prvek_na_indexu(self,index):\n",
        "    \"\"\" procházíme seznam, pomocná proměnná, která počítá, kolik prvků jsme si prohlédli \n",
        "        -> až se pomocná proměnná bude rovnat zadanému indexu, ukončíme cyklus a vrátíme hodnotu\n",
        "        pokud index leží mimo seznam vyhodí se výjimka Raise(\"Index out of range, pitomče!\")\n",
        "    \"\"\"\n",
        "    prvek=self.hlavicka\n",
        "\n",
        "    if index < 0: \n",
        "      raise Exception(\"Index has to be positive!\")\n",
        "\n",
        "    for i in range(index):\n",
        "      if prvek.nasledujici is not None:\n",
        "        prvek=prvek.nasledujici\n",
        "      else:\n",
        "        raise Exception(\"Index out of range, pitomče!\")\n",
        "    return prvek.hodnota\n",
        "\n",
        "  # def __iter__(self):\n",
        "  #   self.x=self.hlavicka\n",
        "  #   return self\n",
        "  \n",
        "  # def __next__(self):\n",
        "  #   if self.x.nasledujici==None:\n",
        "  #     raise StopIteration\n",
        "  #   else:\n",
        "  #     self.x=self.x.nasledujici\n",
        "  #   return self.x\n",
        "\n",
        "    \n",
        "\n",
        "  def __repr__(self) -> str: # tato magická metoda nám umožňuje vypsat hodnoty objektu pomocí příkazu print\n",
        "    vypis=\"\"\n",
        "    prvek=self.hlavicka # hlavičku si uložíme do pomocné proměnné, \n",
        "                          # abychom mohli v cyklu pracovat se všemu uzli pod stejným jménem\n",
        "    while prvek is not None: #dokud nenajdeme konec seznamu (neexistující prvek) \n",
        "      vypis+=str(prvek.hodnota)+\" \" #\"ukládej hodnoty prvku do výpisu\"\n",
        "      prvek=prvek.nasledujici #a přejdi na další prvek\n",
        "    return vypis\n"
      ]
    },
    {
      "cell_type": "code",
      "source": [
        "seznam=Seznam(0)\n",
        "print(seznam.hlavicka.hodnota)\n",
        "seznam.pridej_prvek(3)\n",
        "print(seznam.hlavicka.nasledujici.hodnota)\n",
        "seznam.pridej_prvek(5)\n",
        "seznam.pridej_prvek(5)\n",
        "seznam.pridej_prvek(5)\n",
        "seznam.pridej_prvek(42)\n",
        "print(seznam)\n",
        "\n",
        "seznam.prvek_na_indexu(3) #=> 5\n",
        "seznam.prvek_na_indexu(5) #=> 5\n",
        "\n",
        "for prvek in seznam:\n",
        "  print(prvek.hodnota)"
      ],
      "metadata": {
        "colab": {
          "base_uri": "https://localhost:8080/"
        },
        "id": "8vSYlvtuyzk1",
        "outputId": "b2fe6577-c695-40c2-f696-c93c9709f943"
      },
      "execution_count": null,
      "outputs": [
        {
          "output_type": "stream",
          "name": "stdout",
          "text": [
            "0\n",
            "3\n",
            "0 3 5 5 5 42 \n",
            "3\n",
            "5\n",
            "5\n",
            "5\n",
            "42\n"
          ]
        }
      ]
    }
  ]
}