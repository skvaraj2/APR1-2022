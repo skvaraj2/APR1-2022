{
  "nbformat": 4,
  "nbformat_minor": 0,
  "metadata": {
    "colab": {
      "provenance": [],
      "authorship_tag": "ABX9TyPzSruan1OpJLOB84fJxK85",
      "include_colab_link": true
    },
    "kernelspec": {
      "name": "python3",
      "display_name": "Python 3"
    },
    "language_info": {
      "name": "python"
    }
  },
  "cells": [
    {
      "cell_type": "markdown",
      "metadata": {
        "id": "view-in-github",
        "colab_type": "text"
      },
      "source": [
        "<a href=\"https://colab.research.google.com/github/skvaraj2/APR1-2022/blob/main/APR2_4_4_2023.ipynb\" target=\"_parent\"><img src=\"https://colab.research.google.com/assets/colab-badge.svg\" alt=\"Open In Colab\"/></a>"
      ]
    },
    {
      "cell_type": "code",
      "execution_count": null,
      "metadata": {
        "id": "akajP4_Ar6Ma"
      },
      "outputs": [],
      "source": [
        "# Implementace haldy (datová struktura Heap) pomocí objektů\n",
        "\n",
        "class Uzel:\n",
        "  \n",
        "  def __init__(self,hodnota,rodic=None):\n",
        "    self.hodnota=hodnota\n",
        "    self.rodic=rodic\n",
        "    self.je_korenem = self.rodic == None  # pokud existuje rodic, není kořenem\n",
        "    self.levy_potomek = None\n",
        "    self.pravy_potomek = None\n",
        "    self.pocet_potomku = 0\n",
        "\n",
        "class Halda:\n",
        "  def __init__(self,koren = None):\n",
        "    self.koren=koren\n",
        "\n",
        "  def pridej_prvek(self, hodnota):\n",
        "    uzel=Uzel(hodnota)\n",
        "    if self.koren is None:\n",
        "      self.koren=uzel\n",
        "    else: # jinak přidáme potomky kořene\n",
        "      rodic=self.koren\n",
        "      while True:\n",
        "        if rodic.pocet_potomku < 2:\n",
        "          if rodic.levy_potomek is None:\n",
        "            rodic.levy_potomek=uzel\n",
        "            rodic.levy_potomek.rodic=rodic\n",
        "            self.pocet_potomku+=1 # self.pocet_potomku = self.pocet_potomku +1\n",
        "          elif rodic.pravy_potomek is None:\n",
        "            rodic.pravy_potomek=uzel\n",
        "            rodic.pravy_potomek.rodic=rodic\n",
        "            self.pocet_potomku+=1\n",
        "          break\n",
        "        else:\n",
        "          rodic=rodic.levy_potomek\n",
        "\n",
        "      # pokud strom už má kořen, potřebujeme najít první uzel, který ještě nemá dva potomky\n",
        "\n",
        "  #rekurzivní verze\n",
        "  def pridej_prvek_uzlu(self, hodnota, rodic):\n",
        "    uzel=Uzel(hodnota)\n",
        "    if rodic.pocet_potomku < 2:\n",
        "      if rodic.levy_potomek is None:\n",
        "        rodic.levy_potomek=uzel\n",
        "        rodic.levy_potomek.rodic=rodic\n",
        "        self.pocet_potomku+=1 # self.pocet_potomku = self.pocet_potomku +1\n",
        "      elif rodic.pravy_potomek is None:\n",
        "        rodic.pravy_potomek=uzel\n",
        "        rodic.pravy_potomek.rodic=rodic\n",
        "        self.pocet_potomku+=1\n",
        "    else:\n",
        "      pridej_prvek_uzlu(hodnota,rodic.levy_potomek)\n",
        "      pridej_prvek_uzlu(hodnota,rodic.pravy_potomek)\n",
        "\n",
        "  def \n",
        "\n",
        "\n",
        "  def prohod_prvky(self, uzel):\n",
        "    # chceme se podívat na potomky zadaného uzlu\n",
        "    # oba porovnat se zadaným uzlem\n",
        "    # největší z této trojice se stane rodičovským uzlem\n",
        "    # prohodíme pouze hodnoty uzlů, abychom nenarušily vazby rodič - potomek\n",
        "    \n",
        "    vetsi1=0\n",
        "    vetsi2=0\n",
        "    if uzel.hodnota > uzel.levy_potomek.hodnota:\n",
        "      vetsi1=uzel.hodnota\n",
        "    else:\n",
        "      vetsi1=uzel.levy_potomek.hodnota\n",
        "\n",
        "    vetsi2 = uzel.hodnota if uzel.hodnota > uzel.pravy_potomek.hodnota else uzel.pravy_potomek.hodnota\n",
        "\n",
        "    if vetsi1 > vetsi2:\n",
        "      uzel.hodnota, uzel.levy_potomek.hodnota = uzel.levy_potomek.hodnota, uzel.hodnota\n",
        "    else:\n",
        "      uzel.hodnota, uzel.pravy_potomek.hodnota = uzel.pravy_potomek.hodnota, uzel.hodnota\n",
        "  \n",
        "    if uzel.levy_potomek.hodnota > uzel.pravy_potomek.hodnota:\n",
        "      uzel.levy_potomek.hodnota,uzel.pravy_potomek.hodnota = uzel.pravy_potomek.hodnota,uzel.levy_potomek.hodnota\n",
        "\n",
        "  def odeber_nejvetsi():\n",
        "    pass\n",
        "\n"
      ]
    },
    {
      "cell_type": "code",
      "source": [
        "#kontrola tříprvkové haldy\n",
        "#vkládáme prvky 1 6 3\n",
        "heap = Halda()\n",
        "heap.pridej_prvek(3)\n",
        "heap.pridej_prvek(6)\n",
        "heap.pridej_prvek(1)\n",
        "heap.prohod_prvky(heap.koren)  \n",
        "\n",
        "print(\"kořen haldy:\",heap.koren.hodnota)\n",
        "print(\"levy_potomek:\", heap.koren.levy_potomek.hodnota)\n",
        "print(\"pravy_potomek:\", heap.koren.pravy_potomek.hodnota)"
      ],
      "metadata": {
        "colab": {
          "base_uri": "https://localhost:8080/"
        },
        "id": "Y3u4zSXw6qH4",
        "outputId": "9578e2d2-0540-4a5b-dc7d-c52271095a9e"
      },
      "execution_count": null,
      "outputs": [
        {
          "output_type": "stream",
          "name": "stdout",
          "text": [
            "kořen haldy: 6\n",
            "levy_potomek: 1\n",
            "pravy_potomek: 3\n"
          ]
        }
      ]
    }
  ]
}