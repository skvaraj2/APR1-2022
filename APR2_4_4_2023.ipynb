{
  "nbformat": 4,
  "nbformat_minor": 0,
  "metadata": {
    "colab": {
      "provenance": [],
      "authorship_tag": "ABX9TyMtojXWt3BJ3Haa4jb5YssM",
      "include_colab_link": true
    },
    "kernelspec": {
      "name": "python3",
      "display_name": "Python 3"
    },
    "language_info": {
      "name": "python"
    }
  },
  "cells": [
    {
      "cell_type": "markdown",
      "metadata": {
        "id": "view-in-github",
        "colab_type": "text"
      },
      "source": [
        "<a href=\"https://colab.research.google.com/github/skvaraj2/APR1-2022/blob/main/APR2_4_4_2023.ipynb\" target=\"_parent\"><img src=\"https://colab.research.google.com/assets/colab-badge.svg\" alt=\"Open In Colab\"/></a>"
      ]
    },
    {
      "cell_type": "code",
      "execution_count": 46,
      "metadata": {
        "id": "akajP4_Ar6Ma"
      },
      "outputs": [],
      "source": [
        "# Implementace haldy (datová struktura Heap) pomocí objektů\n",
        "\n",
        "class Uzel:\n",
        "  \n",
        "  def __init__(self,hodnota,rodic=None):\n",
        "    self.hodnota=hodnota\n",
        "    self.rodic=rodic\n",
        "    self.je_korenem = self.rodic == None  # pokud existuje rodic, není kořenem\n",
        "    self.levy_potomek = None\n",
        "    self.pravy_potomek = None\n",
        "    self.pocet_potomku = 0\n",
        "\n",
        "class Halda:\n",
        "  def __init__(self,koren = None):\n",
        "    self.koren=koren\n",
        "\n",
        "  def pridej_prvek(self, hodnota):\n",
        "    uzel=Uzel(hodnota)\n",
        "    if self.koren is None:\n",
        "      self.koren=uzel\n",
        "    else: # jinak přidáme potomky kořene\n",
        "      rodic=self.koren\n",
        "      while True:\n",
        "        if rodic.pocet_potomku < 2:\n",
        "          if rodic.levy_potomek is None:\n",
        "            rodic.levy_potomek=uzel\n",
        "            rodic.levy_potomek.rodic=rodic\n",
        "            self.pocet_potomku+=1 # self.pocet_potomku = self.pocet_potomku +1\n",
        "          elif rodic.pravy_potomek is None:\n",
        "            rodic.pravy_potomek=uzel\n",
        "            rodic.pravy_potomek.rodic=rodic\n",
        "            self.pocet_potomku+=1\n",
        "          break\n",
        "        else:\n",
        "          rodic=rodic.levy_potomek\n",
        "\n",
        "      # pokud strom už má kořen, potřebujeme najít první uzel, který ještě nemá dva potomky\n",
        "\n",
        "  #rekurzivní verze\n",
        "  def pridej_prvek_uzlu(self, hodnota, rodic):\n",
        "    uzel=Uzel(hodnota)\n",
        "    if rodic is not None:\n",
        "      #nejprve porovnáme novou hodnotu s rodičem\n",
        "      if uzel.hodnota > rodic.hodnota:\n",
        "        rodic.hodnota, uzel.hodnota = uzel.hodnota, rodic.hodnota\n",
        "\n",
        "      if rodic.levy_potomek is None:\n",
        "        rodic.levy_potomek = uzel\n",
        "      elif rodic.pravy_potomek is None:\n",
        "        rodic.pravy_potomek = uzel\n",
        "      else:\n",
        "        if abs(uzel.hodnota-rodic.levy_potomek.hodnota) < abs(uzel.hodnota-rodic.pravy_potomek.hodnota)  :\n",
        "          rodic.levy_potomek=self.pridej_prvek_uzlu(uzel.hodnota,rodic.levy_potomek)\n",
        "        else:\n",
        "          rodic.pravy_potomek=self.pridej_prvek_uzlu(uzel.hodnota,rodic.pravy_potomek)\n",
        "          \n",
        "    else:\n",
        "      rodic=uzel\n",
        "    return rodic\n",
        "      \n",
        "\n",
        "  def preved_pole_do_haldy(self,pole):\n",
        "    for hodnota in pole:\n",
        "      self.koren=self.pridej_prvek_uzlu(hodnota,self.koren)    \n",
        "\n",
        "  def prohod_prvky(self, uzel):\n",
        "    # chceme se podívat na potomky zadaného uzlu\n",
        "    # oba porovnat se zadaným uzlem\n",
        "    # největší z této trojice se stane rodičovským uzlem\n",
        "    # prohodíme pouze hodnoty uzlů, abychom nenarušily vazby rodič - potomek\n",
        "    \n",
        "    vetsi1=0\n",
        "    vetsi2=0\n",
        "    if uzel.hodnota > uzel.levy_potomek.hodnota:\n",
        "      vetsi1=uzel.hodnota\n",
        "    else:\n",
        "      vetsi1=uzel.levy_potomek.hodnota\n",
        "\n",
        "    vetsi2 = uzel.hodnota if uzel.hodnota > uzel.pravy_potomek.hodnota else uzel.pravy_potomek.hodnota\n",
        "\n",
        "    if vetsi1 > vetsi2:\n",
        "      uzel.hodnota, uzel.levy_potomek.hodnota = uzel.levy_potomek.hodnota, uzel.hodnota\n",
        "    else:\n",
        "      uzel.hodnota, uzel.pravy_potomek.hodnota = uzel.pravy_potomek.hodnota, uzel.hodnota\n",
        "  \n",
        "    if uzel.levy_potomek.hodnota > uzel.pravy_potomek.hodnota:\n",
        "      uzel.levy_potomek.hodnota,uzel.pravy_potomek.hodnota = uzel.pravy_potomek.hodnota,uzel.levy_potomek.hodnota\n",
        "\n",
        "  def odeber_nejvetsi():\n",
        "    pass\n",
        "\n"
      ]
    },
    {
      "cell_type": "code",
      "source": [
        "#kontrola tříprvkové haldy\n",
        "#vkládáme prvky 1 6 3\n",
        "heap = Halda()\n",
        "heap.pridej_prvek(3)\n",
        "heap.pridej_prvek(6)\n",
        "heap.pridej_prvek(1)\n",
        "heap.prohod_prvky(heap.koren)  \n",
        "\n",
        "print(\"kořen haldy:\",heap.koren.hodnota)\n",
        "print(\"levy_potomek:\", heap.koren.levy_potomek.hodnota)\n",
        "print(\"pravy_potomek:\", heap.koren.pravy_potomek.hodnota)"
      ],
      "metadata": {
        "colab": {
          "base_uri": "https://localhost:8080/",
          "height": 357
        },
        "id": "Y3u4zSXw6qH4",
        "outputId": "b21d804c-c572-4b53-fef5-80866860d085"
      },
      "execution_count": 10,
      "outputs": [
        {
          "output_type": "error",
          "ename": "AttributeError",
          "evalue": "ignored",
          "traceback": [
            "\u001b[0;31m---------------------------------------------------------------------------\u001b[0m",
            "\u001b[0;31mAttributeError\u001b[0m                            Traceback (most recent call last)",
            "\u001b[0;32m<ipython-input-10-e7af92a0a610>\u001b[0m in \u001b[0;36m<cell line: 5>\u001b[0;34m()\u001b[0m\n\u001b[1;32m      3\u001b[0m \u001b[0mheap\u001b[0m \u001b[0;34m=\u001b[0m \u001b[0mHalda\u001b[0m\u001b[0;34m(\u001b[0m\u001b[0;34m)\u001b[0m\u001b[0;34m\u001b[0m\u001b[0;34m\u001b[0m\u001b[0m\n\u001b[1;32m      4\u001b[0m \u001b[0mheap\u001b[0m\u001b[0;34m.\u001b[0m\u001b[0mpridej_prvek\u001b[0m\u001b[0;34m(\u001b[0m\u001b[0;36m3\u001b[0m\u001b[0;34m)\u001b[0m\u001b[0;34m\u001b[0m\u001b[0;34m\u001b[0m\u001b[0m\n\u001b[0;32m----> 5\u001b[0;31m \u001b[0mheap\u001b[0m\u001b[0;34m.\u001b[0m\u001b[0mpridej_prvek\u001b[0m\u001b[0;34m(\u001b[0m\u001b[0;36m6\u001b[0m\u001b[0;34m)\u001b[0m\u001b[0;34m\u001b[0m\u001b[0;34m\u001b[0m\u001b[0m\n\u001b[0m\u001b[1;32m      6\u001b[0m \u001b[0mheap\u001b[0m\u001b[0;34m.\u001b[0m\u001b[0mpridej_prvek\u001b[0m\u001b[0;34m(\u001b[0m\u001b[0;36m1\u001b[0m\u001b[0;34m)\u001b[0m\u001b[0;34m\u001b[0m\u001b[0;34m\u001b[0m\u001b[0m\n\u001b[1;32m      7\u001b[0m \u001b[0mheap\u001b[0m\u001b[0;34m.\u001b[0m\u001b[0mprohod_prvky\u001b[0m\u001b[0;34m(\u001b[0m\u001b[0mheap\u001b[0m\u001b[0;34m.\u001b[0m\u001b[0mkoren\u001b[0m\u001b[0;34m)\u001b[0m\u001b[0;34m\u001b[0m\u001b[0;34m\u001b[0m\u001b[0m\n",
            "\u001b[0;32m<ipython-input-9-4ae4ed1d1e94>\u001b[0m in \u001b[0;36mpridej_prvek\u001b[0;34m(self, hodnota)\u001b[0m\n\u001b[1;32m     26\u001b[0m             \u001b[0mrodic\u001b[0m\u001b[0;34m.\u001b[0m\u001b[0mlevy_potomek\u001b[0m\u001b[0;34m=\u001b[0m\u001b[0muzel\u001b[0m\u001b[0;34m\u001b[0m\u001b[0;34m\u001b[0m\u001b[0m\n\u001b[1;32m     27\u001b[0m             \u001b[0mrodic\u001b[0m\u001b[0;34m.\u001b[0m\u001b[0mlevy_potomek\u001b[0m\u001b[0;34m.\u001b[0m\u001b[0mrodic\u001b[0m\u001b[0;34m=\u001b[0m\u001b[0mrodic\u001b[0m\u001b[0;34m\u001b[0m\u001b[0;34m\u001b[0m\u001b[0m\n\u001b[0;32m---> 28\u001b[0;31m             \u001b[0mself\u001b[0m\u001b[0;34m.\u001b[0m\u001b[0mpocet_potomku\u001b[0m\u001b[0;34m+=\u001b[0m\u001b[0;36m1\u001b[0m \u001b[0;31m# self.pocet_potomku = self.pocet_potomku +1\u001b[0m\u001b[0;34m\u001b[0m\u001b[0;34m\u001b[0m\u001b[0m\n\u001b[0m\u001b[1;32m     29\u001b[0m           \u001b[0;32melif\u001b[0m \u001b[0mrodic\u001b[0m\u001b[0;34m.\u001b[0m\u001b[0mpravy_potomek\u001b[0m \u001b[0;32mis\u001b[0m \u001b[0;32mNone\u001b[0m\u001b[0;34m:\u001b[0m\u001b[0;34m\u001b[0m\u001b[0;34m\u001b[0m\u001b[0m\n\u001b[1;32m     30\u001b[0m             \u001b[0mrodic\u001b[0m\u001b[0;34m.\u001b[0m\u001b[0mpravy_potomek\u001b[0m\u001b[0;34m=\u001b[0m\u001b[0muzel\u001b[0m\u001b[0;34m\u001b[0m\u001b[0;34m\u001b[0m\u001b[0m\n",
            "\u001b[0;31mAttributeError\u001b[0m: 'Halda' object has no attribute 'pocet_potomku'"
          ]
        }
      ]
    },
    {
      "cell_type": "code",
      "source": [
        "halda=Halda()\n",
        "pole = [1,3,0,6,5]\n",
        "\n",
        "halda.preved_pole_do_haldy(pole)\n",
        "\n",
        "print(\"kořen\",halda.koren.hodnota)\n",
        "print(\"levy\",halda.koren.levy_potomek.hodnota)\n",
        "print(\"pravy\",halda.koren.pravy_potomek.hodnota)\n"
      ],
      "metadata": {
        "id": "V3O5Dy3l4asn"
      },
      "execution_count": null,
      "outputs": []
    },
    {
      "cell_type": "code",
      "source": [
        "# RPG systém\n",
        "\n",
        "#vlastnosti postav\n",
        "# => HP (0 - 100) zdraví v procentech\n",
        "# => síla => 0 - 20 => použijeme ji na výpočet zranění uděleného nepříteli => \n",
        "      #=>(hod 20stennou kostkou) + bonus k síle (sila - průmerna sila)\n",
        "# => zbraň => různé zbraně různé kostky => dýka => 1k3  \n",
        "# => obratnost => 0 - 20 => možnost uhnout úderu => pokud nás chce někdo zasáhnout, \n",
        "  # musí hodit 20stennou kostkou =>  jeho hod musí být >= naší obratnosti\n",
        "# možnost přidat armor => v tom případě nepřítel přehodi obratnost + armor  (obratnost + armor nesmí být větší než 20)\n",
        "# stěstí => pokud padne postava na 0HP => hodí 1k20  a pokud hod je < stěstí, dostane 1HP\n",
        "\n",
        "\n",
        "# na bojovníky zkuste využít dědičnost => např. Válečník a Lev se budou lišit jen vlastnostmi\n",
        "\n",
        "class Tvor:\n",
        "\n",
        "class Bojovnik(Tvor):\n",
        "  # definujeme pouze metody, které se liší, nebo které jsou úplně nové\n",
        "\n",
        "class zbran:\n",
        "  # metoda vygeneruj poskozeni\n",
        "\n",
        "class zbroj:\n",
        "  #asi jen pasivní informace o tom, jakou obranu poskytuje\n",
        "\n",
        "class arena: # generuje bojovniky, hlida víteze, "
      ],
      "metadata": {
        "id": "ronPEy_BBXWv"
      },
      "execution_count": null,
      "outputs": []
    }
  ]
}