{
  "nbformat": 4,
  "nbformat_minor": 0,
  "metadata": {
    "colab": {
      "provenance": []
    },
    "kernelspec": {
      "name": "python3",
      "display_name": "Python 3"
    },
    "language_info": {
      "name": "python"
    }
  },
  "cells": [
    {
      "cell_type": "markdown",
      "source": [
        "# úvod do prostředí colab.research.google.com\n"
      ],
      "metadata": {
        "id": "TZ7umd3ciUJ-"
      }
    },
    {
      "cell_type": "code",
      "execution_count": null,
      "metadata": {
        "id": "t5Vug5o8iK43"
      },
      "outputs": [],
      "source": [
        "#matematické operace\n",
        "\n",
        "print(\"Součet dvou čísel je\",2+2)\n",
        "print(\"Součet dvou čísel je\",2-2)\n",
        "print(\"Součet dvou čísel je\",2*2)\n",
        "print(\"Součet dvou čísel je\",2/2)\n",
        "\n",
        "print(\"čtvrtá mocnina čísla 2\",2**4)\n",
        "print(\"celočíselné dělení\",3//2)\n",
        "print(\"zbytek po dělení\",3%2)\n"
      ]
    },
    {
      "cell_type": "code",
      "source": [
        "#více operací z balíčku math\n",
        "\n",
        "import math\n",
        "\n",
        "print(\"logaritmus\",math.log(10))\n",
        "print(\"logaritmus\",math.log(10,10))\n"
      ],
      "metadata": {
        "colab": {
          "base_uri": "https://localhost:8080/"
        },
        "id": "DpYMuNiQkyBN",
        "outputId": "e7fa46c4-156b-4324-b35b-7a551c63c678"
      },
      "execution_count": null,
      "outputs": [
        {
          "output_type": "stream",
          "name": "stdout",
          "text": [
            "logaritmus 2.302585092994046\n",
            "logaritmus 1.0\n"
          ]
        }
      ]
    },
    {
      "cell_type": "code",
      "source": [
        "# pouze konkrétní funkce z knihovny\n",
        "from math import sqrt\n",
        "\n",
        "print(\"odmocnina\", sqrt(6))"
      ],
      "metadata": {
        "colab": {
          "base_uri": "https://localhost:8080/"
        },
        "id": "uCpoozV7lYcG",
        "outputId": "1d629fbd-6cf9-43c1-9f86-0beffd8967b8"
      },
      "execution_count": null,
      "outputs": [
        {
          "output_type": "stream",
          "name": "stdout",
          "text": [
            "odmocnina 2.449489742783178\n"
          ]
        }
      ]
    },
    {
      "cell_type": "code",
      "source": [
        "#promenné\n",
        "\n",
        "\n",
        "promenna1 = 5\n",
        "promenna2 = 3\n",
        "#type(promenna1)\n",
        "\n",
        "#ukol prohodit čísla v promenných\n",
        "\n",
        "#1) přes pomocnou proměnnou\n",
        "\n",
        "helpMe=promenna1\n",
        "promenna1=promenna2\n",
        "promenna2=helpMe\n",
        "\n",
        "print(promenna1, promenna2)\n",
        "\n",
        "\n",
        "#2) pythonisticky paralelní přiřazení hodnot\n",
        "\n",
        "promenna1, promenna2= 5, 3 \n",
        "\n",
        "promenna1, promenna2= promenna2, promenna1\n",
        "\n",
        "print(promenna1, promenna2)\n"
      ],
      "metadata": {
        "colab": {
          "base_uri": "https://localhost:8080/"
        },
        "id": "tn_0WRtcltVV",
        "outputId": "a7ef3a3c-18f7-4a72-de70-5cc22b9e4cfa"
      },
      "execution_count": null,
      "outputs": [
        {
          "output_type": "stream",
          "name": "stdout",
          "text": [
            "3 5\n",
            "3 5\n"
          ]
        }
      ]
    },
    {
      "cell_type": "code",
      "source": [
        "# čtení dat z klávesnice\n",
        "\n",
        "\n",
        "\n",
        "for i in range(10):\n",
        "  cislo=input(\"Zadejte celé číslo\")\n",
        "  cislo=int(cislo)\n",
        "\n",
        "  if cislo%2==0:\n",
        "    print(\"Zadané číslo je sudé\")\n",
        "  else:\n",
        "    print(\"Zadané číslo je liché\")\n",
        "\n",
        "print(\"KONEC PROGRAMU\")"
      ],
      "metadata": {
        "id": "MlEQuXSZoGiW"
      },
      "execution_count": null,
      "outputs": []
    },
    {
      "cell_type": "code",
      "source": [
        "print(list(range(10)))\n",
        "\n",
        "for i in range(10): \n",
        "  print(i)"
      ],
      "metadata": {
        "id": "-6YdiMinvn_2"
      },
      "execution_count": null,
      "outputs": []
    },
    {
      "cell_type": "code",
      "source": [
        "# soucet čísel od 0 do 100\n",
        "\n",
        "soucet=0\n",
        "for i in range(101):\n",
        "  soucet+=i\n",
        "print(soucet)\n",
        "\n",
        "# soucet sudých a lichých čísel na stejném rozsahu\n",
        "\n",
        "soucetL=0\n",
        "soucetS=0\n",
        "for i in range(101):\n",
        "  if(i%2==0):\n",
        "    soucetS+=i\n",
        "  else:\n",
        "    soucetL+=i\n",
        "    \n",
        "print(soucetS,soucetL)\n",
        "\n"
      ],
      "metadata": {
        "colab": {
          "base_uri": "https://localhost:8080/"
        },
        "id": "hkZAiUAmwqPW",
        "outputId": "a30aa56c-95b1-4127-a8c7-6ee0bb18ed5f"
      },
      "execution_count": null,
      "outputs": [
        {
          "output_type": "stream",
          "name": "stdout",
          "text": [
            "5050\n",
            "2550 2500\n"
          ]
        }
      ]
    },
    {
      "cell_type": "code",
      "source": [
        "promenna=10\n",
        "\n",
        "#zkrácený zápis změny hodnoty proměnné\n",
        "promenna=promenna+10\n",
        "promenna+=10 \n"
      ],
      "metadata": {
        "id": "4LM_7E6qyrXH"
      },
      "execution_count": null,
      "outputs": []
    },
    {
      "cell_type": "code",
      "source": [
        "# dodatek k podmínkám\n",
        "\n",
        "#dodatečné podmínky\n",
        "\n",
        "# rozsah hodnot 1 - 10\n",
        "cislo=int(input(\"zadejte číslo\"))\n",
        "\n",
        "if cislo < 1:\n",
        "  print(\"číslo leží mimo interval\")\n",
        "elif cislo>10:\n",
        "  print(\"číslo je vyšší než interval\")\n",
        "else:\n",
        "  print(\"TREFA!!! číslo je v daném intervalu\")\n"
      ],
      "metadata": {
        "id": "zwWMyvdnzONY"
      },
      "execution_count": null,
      "outputs": []
    },
    {
      "cell_type": "code",
      "source": [
        "#leží číslo mezi 1 a 10?\n",
        "\n",
        "cislo=int(input(\"zadejte číslo\"))\n",
        "\n",
        "if cislo >= 1 and cislo <=10:\n",
        "  print(\"číslo leží na intervalu\")\n",
        "else:\n",
        "  print(\"číslo je úplně mimo\")"
      ],
      "metadata": {
        "colab": {
          "base_uri": "https://localhost:8080/"
        },
        "id": "e8tCshDH0pGH",
        "outputId": "d3385055-9745-4dec-ab02-7e25422e15de"
      },
      "execution_count": null,
      "outputs": [
        {
          "output_type": "stream",
          "name": "stdout",
          "text": [
            "zadejte číslo11\n",
            "číslo je úplně mimo\n"
          ]
        }
      ]
    },
    {
      "cell_type": "code",
      "source": [
        "# otázka Leží číslo mimo interval 1-10\n",
        "cislo=int(input(\"zadejte číslo\"))\n",
        "\n",
        "#negace logického výrazu\n",
        "\n",
        "if not(cislo >= 1 and cislo <=10):\n",
        "  print(\"číslo je mimo interval\")\n",
        "else:\n",
        "  print(\"číslo leží uvnitř intervalu\")\n"
      ],
      "metadata": {
        "colab": {
          "base_uri": "https://localhost:8080/"
        },
        "id": "syvgN1sQ2C7v",
        "outputId": "10b3b320-1f7f-44dd-8aa3-38a5019ef2d2"
      },
      "execution_count": null,
      "outputs": [
        {
          "output_type": "stream",
          "name": "stdout",
          "text": [
            "zadejte číslo11\n",
            "číslo je mimo interval\n"
          ]
        }
      ]
    },
    {
      "cell_type": "code",
      "source": [
        "# logická operace or => NEBO\n",
        "\n",
        "cislo=int(input(\"zadejte číslo\"))\n",
        "\n",
        "if cislo <1 or cislo >10:\n",
        "  print(\"číslo je mimo zadaný interval\")\n",
        "else:\n",
        "  print(\"číslo leží na intervalu\")"
      ],
      "metadata": {
        "colab": {
          "base_uri": "https://localhost:8080/"
        },
        "id": "PQxSRycy22Yf",
        "outputId": "fdccb217-341e-46b5-fef3-1f6c665d1018"
      },
      "execution_count": null,
      "outputs": [
        {
          "output_type": "stream",
          "name": "stdout",
          "text": [
            "zadejte číslo5\n",
            "číslo leží na intervalu\n"
          ]
        }
      ]
    },
    {
      "cell_type": "code",
      "source": [
        "# not, OR, AND"
      ],
      "metadata": {
        "id": "7A4nWcxL3W43"
      },
      "execution_count": null,
      "outputs": []
    },
    {
      "cell_type": "code",
      "source": [
        "# úkol: True a False v různých kombinacích\n",
        "\n",
        "# přechodové tabulky logických hradel AND a OR\n",
        "print(\"False, False\",False and False)\n"
      ],
      "metadata": {
        "colab": {
          "base_uri": "https://localhost:8080/"
        },
        "id": "LoXXrQTi3aw_",
        "outputId": "8ab7700f-ef6a-4217-ddd7-38db2327d39e"
      },
      "execution_count": null,
      "outputs": [
        {
          "output_type": "stream",
          "name": "stdout",
          "text": [
            "False\n"
          ]
        }
      ]
    }
  ]
}