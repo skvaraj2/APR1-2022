{
  "nbformat": 4,
  "nbformat_minor": 0,
  "metadata": {
    "colab": {
      "provenance": [],
      "authorship_tag": "ABX9TyMi9C9xwQofL7u5QDvoLMHF",
      "include_colab_link": true
    },
    "kernelspec": {
      "name": "python3",
      "display_name": "Python 3"
    },
    "language_info": {
      "name": "python"
    }
  },
  "cells": [
    {
      "cell_type": "markdown",
      "metadata": {
        "id": "view-in-github",
        "colab_type": "text"
      },
      "source": [
        "<a href=\"https://colab.research.google.com/github/skvaraj2/APR1-2022/blob/main/APR1_21_10_2022.ipynb\" target=\"_parent\"><img src=\"https://colab.research.google.com/assets/colab-badge.svg\" alt=\"Open In Colab\"/></a>"
      ]
    },
    {
      "cell_type": "markdown",
      "source": [
        "1) Vypočtěte faktoriál celého čísla zadaného z klávesnice $5!=5*4*3*2*1$\n"
      ],
      "metadata": {
        "id": "meXslAqaYnrQ"
      }
    },
    {
      "cell_type": "code",
      "execution_count": null,
      "metadata": {
        "id": "OSucebqdYQDC",
        "colab": {
          "base_uri": "https://localhost:8080/"
        },
        "outputId": "fc8d849c-c336-4b32-e5d4-ffccb0f001bf"
      },
      "outputs": [
        {
          "output_type": "stream",
          "name": "stdout",
          "text": [
            "Zadejte celé číslo5\n",
            "mezivýsledky 5\n",
            "mezivýsledky 20\n",
            "mezivýsledky 60\n",
            "mezivýsledky 120\n",
            "mezivýsledky 120\n",
            "Faktorial čísla 5 je 120\n"
          ]
        }
      ],
      "source": [
        "cislo=int(input(\"Zadejte celé číslo\"))\n",
        "\n",
        "faktorial=1\n",
        "\n",
        "for i in range(cislo,0,-1):\n",
        "  faktorial=faktorial*i\n",
        "  print(\"mezivýsledky\",faktorial)\n",
        "\n",
        "print(\"Faktorial čísla\",cislo,\"je\",faktorial)\n"
      ]
    },
    {
      "cell_type": "markdown",
      "source": [
        "2) řešte kvadratickou rovnici $2x^2+6x-20=0$\n",
        "\n",
        "diskriminant => $D=b^2-4ac$\n",
        "\n",
        "\n",
        "kořeny $x_{1,2}=\\frac{-b±\\sqrt D}{2a}$\n",
        "\n",
        "Pomocí podmínek ověřte, zda má rovnice řešení na množině reálných čísel a kolik kořenů lze očekávat."
      ],
      "metadata": {
        "id": "C6hlPLZpZLn-"
      }
    },
    {
      "cell_type": "code",
      "source": [
        "import math\n",
        "# a*x**2 + bx +x =0\n",
        "a=2.0\n",
        "b=6.0\n",
        "c=-20.0\n",
        "\n",
        "D=b**2.0-4.0*a*c\n",
        "\n",
        "if D > 0:\n",
        "  print(\"úloha je řešitelná na množině reálných čísel\")\n",
        "  x1=(-b+math.sqrt(D))/(2.0*a)\n",
        "  x2=(-b-math.sqrt(D))/(2.0*a)\n",
        "  print(\"kořeny jsou\",x1,x2)\n",
        "elif D==0:\n",
        "  print(\"úloha má jeden dvojnásobný kořen\")\n",
        "  x1=(-b+math.sqrt(D))/(2.0*a)\n",
        "  print(\"kořeny jsou\",x1,x1)\n",
        "else:\n",
        "  print(\"zadaná úloha nemá řešení na množině reálných čísel\")"
      ],
      "metadata": {
        "id": "KCsA2P6uZK9r",
        "colab": {
          "base_uri": "https://localhost:8080/"
        },
        "outputId": "54cb1f1c-e433-489b-88d1-5fc2607c0e24"
      },
      "execution_count": null,
      "outputs": [
        {
          "output_type": "stream",
          "name": "stdout",
          "text": [
            "úloha je řešitelná na množině reálných čísel\n",
            "kořeny jsou 2.0 -5.0\n"
          ]
        }
      ]
    },
    {
      "cell_type": "markdown",
      "source": [
        "3) Generujte Fibonacciho posloupnost čísel (1 1 2 3 5 8 13 21 34 55)"
      ],
      "metadata": {
        "id": "5Kd0U4rLYvln"
      }
    },
    {
      "cell_type": "code",
      "source": [
        "a=1\n",
        "b=1\n",
        "\n",
        "print(a)\n",
        "print(b)\n",
        "\n",
        "for i in range(10):\n",
        "  c=a+b\n",
        "  print(c)\n",
        "  if(a<b): # menší z hodnot a, b přemažu novou hodnotou\n",
        "    a=c\n",
        "  else:\n",
        "    b=c\n"
      ],
      "metadata": {
        "id": "0ijXlKeLxEGw"
      },
      "execution_count": null,
      "outputs": []
    },
    {
      "cell_type": "code",
      "source": [
        "fib = [0,1]\n",
        "\n",
        "for x in range(10):\n",
        "  fib.append(fib[x] + fib[x + 1])\n",
        "\n",
        "for y in range(len(fib)):\n",
        "  print(fib[y])"
      ],
      "metadata": {
        "id": "Xe6bvqRBZMLG"
      },
      "execution_count": null,
      "outputs": []
    },
    {
      "cell_type": "markdown",
      "source": [
        "cyklus s podmínkou (zoo)"
      ],
      "metadata": {
        "id": "HYVnHZlXa4XR"
      }
    },
    {
      "cell_type": "code",
      "source": [
        "while logicky_vyraz:\n",
        "  kod_k_opakovani"
      ],
      "metadata": {
        "id": "SrJKWaFka_uq"
      },
      "execution_count": null,
      "outputs": []
    },
    {
      "cell_type": "code",
      "source": [
        "#tipovačka čísel\n",
        "\n",
        "import random # knihovna pro generování náhodných čísel\n",
        "\n",
        "cislo=random.randint(1,10) #náhodné celé číslo z rozsahu 1-10\n",
        "tip=-1 # příprava proměnné, kterou budu používat v cyklu\n",
        "\n",
        "while tip != cislo:\n",
        "  tip=int(input(\"Tipni jaké číslo si myslím\"))\n",
        "\n",
        "print(\"Gratuluji, jsi perfektní tipař!\")\n"
      ],
      "metadata": {
        "id": "F0yUyDZ1yqau"
      },
      "execution_count": null,
      "outputs": []
    },
    {
      "cell_type": "code",
      "source": [
        "# Program procházka ZOO\n",
        "import random\n",
        "\n",
        "hotovost=10000\n",
        "cena_vstupenky=250\n",
        "pocet_ovecek=10\n",
        "\n",
        "\n",
        "while hotovost >= cena_vstupenky:\n",
        "  hotovost=hotovost-cena_vstupenky\n",
        "\n",
        "  #než budeme krást ovečky, rozhlédneme se, jestli se hlídač kouká naším směrem\n",
        "  sance_ze_nas_vidi_hlidac=random.random()\n",
        "  if(sance_ze_nas_vidi_hlidac <= 0.5): #pokud nas hlidač vidí\n",
        "    print(\"Sakra, dědek čumí, zkusím to v dalším kole\")\n",
        "    continue # skok na první řádek cyklu\n",
        "  if pocet_ovecek==0:\n",
        "    print(\"To tu nemají ani ovce jo? To je ale nudná zoo\")\n",
        "    break # vynucené ukončení cyklu => skok na první neodsazený řádek mimo cyklus\n",
        "  sance_na_prehozeni_ovce=random.random() # náhodné číslo od 0 do 1\n",
        "  if sance_na_prehozeni_ovce <= 0.75:\n",
        "    pocet_ovecek-=1 # pocet_ovecek=pocet_ovecek-1\n",
        "\n",
        "print(\"zustatek hotovosti\",hotovost)\n",
        "print(\"zustatek ovci\",pocet_ovecek)"
      ],
      "metadata": {
        "id": "N44hzjEDz-6u"
      },
      "execution_count": null,
      "outputs": []
    },
    {
      "cell_type": "markdown",
      "source": [
        "ntice - ukázka"
      ],
      "metadata": {
        "id": "VL3hGpfsbA5y"
      }
    },
    {
      "cell_type": "code",
      "source": [
        "a = (1,2,3) # ukládáme více hodnot jednoho datového typu\n",
        "\n",
        "#přístup k hodnotám pomocí indexace\n",
        "print(a[1]) # výpis druhého prvku ntice\n",
        "print(a[0]) # výpis první prvku ntice\n",
        "print(a[-1]) # výpis prvního prvku ntice od konce (poslední prvek)\n",
        "\n",
        "#a[0] = 5 #nelze měni hodnoty ntice"
      ],
      "metadata": {
        "id": "XQUVgfOWbIUj"
      },
      "execution_count": null,
      "outputs": []
    },
    {
      "cell_type": "markdown",
      "source": [
        "funkce (vstupní parametry a návratové hodnoty)"
      ],
      "metadata": {
        "id": "yIO1_eqSdghQ"
      }
    },
    {
      "cell_type": "code",
      "source": [
        "def nazev_funkce(parametry_funkce):\n",
        "  #tělo funkce\n",
        "  return vysledek\n"
      ],
      "metadata": {
        "id": "yO87hBileEpq"
      },
      "execution_count": null,
      "outputs": []
    },
    {
      "cell_type": "code",
      "source": [
        "def scitacka(a,b):\n",
        "  vysledek=a+b\n",
        "\n",
        "print(scitacka(5,3))"
      ],
      "metadata": {
        "colab": {
          "base_uri": "https://localhost:8080/"
        },
        "id": "KoU1giVB500D",
        "outputId": "2aa6e7ee-5971-4f8d-a501-6cf1a739b389"
      },
      "execution_count": null,
      "outputs": [
        {
          "output_type": "stream",
          "name": "stdout",
          "text": [
            "None\n"
          ]
        }
      ]
    },
    {
      "cell_type": "code",
      "source": [
        "def scitacka(a,b): # slušně vychovaná funkce má návratovou hodnotu\n",
        "  vysledek=a+b\n",
        "  return vysledek\n",
        "\n",
        "print(scitacka(5,3))"
      ],
      "metadata": {
        "colab": {
          "base_uri": "https://localhost:8080/"
        },
        "id": "dOJIg7SN6XiD",
        "outputId": "669d42aa-d2c6-40f4-ef99-fc1238da2fed"
      },
      "execution_count": null,
      "outputs": [
        {
          "output_type": "stream",
          "name": "stdout",
          "text": [
            "8\n"
          ]
        }
      ]
    },
    {
      "cell_type": "code",
      "source": [
        "#scitacka bude sčítat libovolný pocet zadaných cisel\n",
        "# *args\n",
        "def lepsi_scitacka(*parametry): # hvězdička a název parametru znamená, že parametrů může být libovolný počet\n",
        "  #*parametry => bere vstupní parametry jako ntici\n",
        "  #potřebujeme znát počet vstupních parametrů => velikost/délka ntice => len(parametry)\n",
        "  vysledek=0\n",
        "  for i in range(len(parametry)):\n",
        "    vysledek+=parametry[i]\n",
        "\n",
        "  return vysledek,len(parametry)\n",
        "\n",
        "\n",
        "soucet, pocet_hodnot=lepsi_scitacka(1,2,3,4,5)\n",
        "\n",
        "print(\"soucet čísel je\",soucet,\"celkem zadano bylo\",pocet_hodnot,\"čísel\")\n"
      ],
      "metadata": {
        "colab": {
          "base_uri": "https://localhost:8080/"
        },
        "id": "JeVLsr-46jJD",
        "outputId": "be71ab63-eb4b-4f1f-e496-dec434307380"
      },
      "execution_count": null,
      "outputs": [
        {
          "output_type": "stream",
          "name": "stdout",
          "text": [
            "soucet čísel je 15 celkem zadano bylo 5 čísel\n"
          ]
        }
      ]
    },
    {
      "cell_type": "markdown",
      "source": [
        "\n",
        "\n",
        "\n",
        "\n",
        "\n",
        "\n",
        "\n",
        "\n",
        "\n"
      ],
      "metadata": {
        "id": "wl-ntM-65grM"
      }
    },
    {
      "cell_type": "markdown",
      "source": [
        "Black Jack (zjednodušený)\n",
        "\n",
        "\n",
        "1.   v cyklu se náhodně rozdávají karty, dokud není dosaženo součtu 21 nebo dokud se hráč nerozhodne hru skončit\n",
        "2.   v každé iteraci se program zeptát hráče na jeho tah (zadají se možnosti \"další\" nebo konec)\n",
        "3. pokud hráč zvolí další kartu je generováno náhodné číslo karty od 1 do 10 a připočte se k celkovému součtu\n",
        "(náhodná čísla lze generovat pomocí knihovny random a metody randint(min,max))\n",
        "4. pokud součet hráčových karet překročí 21, prohrál\n",
        "5. pokud se hráč rozhodne skončit, vypíše se jeho aktuální součet\n",
        "\n"
      ],
      "metadata": {
        "id": "DhinsdGlZxD3"
      }
    },
    {
      "cell_type": "code",
      "source": [
        "\n"
      ],
      "metadata": {
        "id": "AJSTkStTZake"
      },
      "execution_count": null,
      "outputs": []
    }
  ]
}