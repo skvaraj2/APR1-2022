{
  "nbformat": 4,
  "nbformat_minor": 0,
  "metadata": {
    "colab": {
      "provenance": [],
      "authorship_tag": "ABX9TyO2BUVYwTh0CFVSNGX5AgfQ",
      "include_colab_link": true
    },
    "kernelspec": {
      "name": "python3",
      "display_name": "Python 3"
    },
    "language_info": {
      "name": "python"
    }
  },
  "cells": [
    {
      "cell_type": "markdown",
      "metadata": {
        "id": "view-in-github",
        "colab_type": "text"
      },
      "source": [
        "<a href=\"https://colab.research.google.com/github/skvaraj2/APR1-2022/blob/main/APR2_7_3_2024.ipynb\" target=\"_parent\"><img src=\"https://colab.research.google.com/assets/colab-badge.svg\" alt=\"Open In Colab\"/></a>"
      ]
    },
    {
      "cell_type": "markdown",
      "source": [
        "## úkol\n",
        " - třídy čtverec, kruh a bod\n",
        " - kruh - metoda nachází se bod uvnitř kruhu nebo ne\n",
        " - kruh - vytvoření ekvivalentního čtverce. délka hrany tak, aby obsah kruhu a čtverce byl stejný"
      ],
      "metadata": {
        "id": "SLLa6smWpSqa"
      }
    },
    {
      "cell_type": "code",
      "execution_count": null,
      "metadata": {
        "id": "tl4SMqebnkoq"
      },
      "outputs": [],
      "source": [
        "import math\n",
        "class Kruh:\n",
        "  def __init__(self, polomer, stred):\n",
        "    self.polomer=polomer\n",
        "    self.stred=stred\n",
        "\n",
        "  def obsah(self):\n",
        "    return math.pi*self.polomer**2\n",
        "\n",
        "  def ekvivalentni_ctverec(self):\n",
        "    hrana = math.sqrt(self.obsah())\n",
        "    return Ctverec(hrana)"
      ]
    },
    {
      "cell_type": "markdown",
      "source": [
        "## Úkol\n",
        "\n",
        "třída - Bojovnik\n",
        "vlastnosti:  \n",
        " - HP (0-100)\n",
        " - síla (0-100)\n",
        " - obratnost (0-100)\n",
        "\n",
        "metody:\n",
        " - uder_nekoho (nepritel:Bojovnik) #generuje se náhodné číslo => překoná obranu nepřítele\n",
        " - uhni_rane ()\n",
        " - promluv (self,...):\n",
        "      -> haha, vedle / au, to bolí"
      ],
      "metadata": {
        "id": "horQvlwWp7Cx"
      }
    },
    {
      "cell_type": "code",
      "source": [
        "import random\n",
        "\n",
        "class Bojovnik:\n",
        "  def __init__(self):\n",
        "    # nastaví se HP na max 100\n",
        "    # síla generována náhodně v rozsahu 0-100\n",
        "    # obratnost generována náhodně v rozsahu 0-100\n",
        "    self.HP=100\n",
        "    self.sila=random.randint(0,100)\n",
        "    self.obratnost=random.randint(0,100)\n",
        "\n",
        "  def uder_nekoho(self, nepritel):\n",
        "    # vygenerujeme náhodně šanci na zásah -> 0,100 (nebo 0-naše obratnost)\n",
        "    # nepritel zavolá svou metodu uhni ráně a vygeneruje šanci na úhyb\n",
        "    # pokud šance na zásah bude vyšší nebo rovna nepřítelově obraně, zásah a generujeme poškození\n",
        "    # generujeme poškození - 0-sila -> poškození odečteme od HP nepřítele\n",
        "    sance_na_zasah=random.randint(0,self.obratnost)\n",
        "    sance_na_uhyb=nepritel.uhni_rane()\n",
        "    if sance_na_zasah >= sance_na_uhyb:\n",
        "      damage=random.randint(0,self.sila)\n",
        "      nepritel.HP-=damage\n",
        "\n",
        "  def uhni_rane(self):\n",
        "    # generuje náhodné číslo v rozsahu 0 - self.obrantost => hodnotu vrací\n",
        "    return random.randint(0,self.obratnost)\n",
        "\n",
        "  def __repr__(self):\n",
        "    return f\"HP: {self.HP}\\nsila: {self.sila}\\nobratnost: {self.obratnost}\"\n",
        "\n",
        "Vladislav = Bojovnik()\n",
        "Valibor = Bojovnik()\n",
        "\n",
        "#print(Vladislav)\n",
        "#print(Valibor)\n",
        "\n",
        "# BOJ!\n",
        "# bojovnici se budou střídat -> na základě jejich obratnosti\n",
        "# dokud HP jednoho nepadne pod nulu, bojujte\n",
        "\n",
        "# vypíšeme vlastnosti vítěze\n",
        "\n",
        "seznam=[Vladislav,Valibor] # seřadit dle obratnosti\n",
        "seznam=sorted(seznam,key=lambda x:x.obratnost, reverse=True)\n",
        "print(seznam)"
      ],
      "metadata": {
        "colab": {
          "base_uri": "https://localhost:8080/"
        },
        "id": "9TIhzaP3uHKF",
        "outputId": "60f823cf-5f4f-4c68-cd96-ea5b00a0a764"
      },
      "execution_count": null,
      "outputs": [
        {
          "output_type": "stream",
          "name": "stdout",
          "text": [
            "[HP: 100\n",
            "sila: 8\n",
            "obratnost: 61, HP: 100\n",
            "sila: 4\n",
            "obratnost: 39]\n"
          ]
        }
      ]
    },
    {
      "cell_type": "markdown",
      "source": [
        "## Arena:\n",
        "- všichni proti všem: vtupem je seznam bojovníků, bohuje se, dokud nezůstane poslední živý\n",
        "- odklid_mrtve: odebírá ze seznamu bojovníků nebožtíky\n",
        "- vytvor_bojovniky: vygeneruje požadovaný počet náhodných bojovníků\n",
        "- jeden_proti_všem: dva vstupy 1) náš vlastní bojovník, 2) seznam nepřátel => 2 možné konce. Bud zemře hrdina, nebo všichni nepřátelé"
      ],
      "metadata": {
        "id": "P4VLUXpUmZ1r"
      }
    },
    {
      "cell_type": "code",
      "source": [
        "class Arena:\n",
        "  def __init__(self,seznam_bojovniku=[]):\n",
        "    self.bojovnici=seznam_bojovniku\n",
        "\n",
        "  def priprav_bojovniky(self,pocet):\n",
        "    \"\"\" vygeneruje seznam bojovniků a seřadí je podle obratnosti\"\"\"\n",
        "    # for i in range(pocet):\n",
        "    #   self.bojovnici.append(Bojovnik())\n",
        "    self.bojovnici = [Bojovnik() for i in range(pocet)] # totéž pomocí komprehenze\n",
        "    self.bojovnici = sorted(self.bojovnici, key = lambda x: x.obratnost,\n",
        "                            reverse=True)\n",
        "\n",
        "  def boj1vN(self,hrdina):\n",
        "    \"\"\"podobne jako deathmatch. Jen vsichni ze seznamu bojovniků utočí na našeho hrdinu,\n",
        "    náš hrdina útočí na náhodného nepřítele ze seznamu bojovniků\"\"\"\n",
        "    pass\n",
        "\n",
        "  def deathmatch(self):\n",
        "    \"\"\"boj do posledního bojovníka, bojovníci útočí na náhodného nepřítele dle svého pořadí v seznamu\n",
        "    po kazdém útoku kontrolujeme, zda nepřítel nezemřel. Pokud ano, zavolá se hrobník a odklidí mrtvé\n",
        "    \"\"\"\n",
        "    kolo=0\n",
        "    pocet_bojovniku=len(self.bojovnici)\n",
        "    while pocet_bojovniku > 1:\n",
        "      print(f\"{kolo}. kolo, žije {pocet_bojovniku} bojovníků\")\n",
        "      i=0\n",
        "      while i < len(self.bojovnici): #NEBEZPEČNÉ CHOVÁNÍ -> S KAŽDOU SMRTÍ SE MĚNÍ IDENTITA BOJOVNÍKŮ\n",
        "        # PO KAŽDÉ SMRTI BOJOVNÍKY PŘEINDEXUJEME -> MOŽNO ŘEŠIT MAPOVÁNÍM PŮVODNÍCH INDEXŮ NA NOVÉ=>\n",
        "        # KLÍČ PŮVODNÍ INDEX, HODNOTA = NOVÁ INDENTITA\n",
        "        if self.bojovnici[i].HP<=0:\n",
        "          i+=1\n",
        "          continue\n",
        "        index_nepritele=i\n",
        "        while i == index_nepritele and self.bojovnici[index_nepritele].HP <= 0:\n",
        "          index_nepritele=random.randint(0,len(self.bojovnici)-1)\n",
        "        self.bojovnici[i].uder_nekoho(self.bojovnici[index_nepritele])\n",
        "        if self.bojovnici[index_nepritele].HP <= 0:\n",
        "          #self.bojovnici.pop(index_nepritele) # ODEBÍRÁNÍ JE NEBEZPEČNÉ\n",
        "          pocet_bojovniku-=1\n",
        "          print(\"úmrtí\")\n",
        "        i+=1\n",
        "      kolo+=1\n",
        "\n",
        "    print(i)\n",
        "    print(f\"vítězem se stává bojovník, jehož stav je následující {self.bojovnici[i-1]}\")\n",
        "\n",
        "\n",
        "  def odklid_mrtve(self, neboztik):\n",
        "    \"\"\"odebere hodnotu neboztik ze seznamu bojovniků\"\"\"\n",
        "    pass"
      ],
      "metadata": {
        "id": "U53EJ9GqnpVx"
      },
      "execution_count": null,
      "outputs": []
    },
    {
      "cell_type": "code",
      "source": [
        "arena=Arena()\n",
        "arena.priprav_bojovniky(10)\n",
        "arena.deathmatch()"
      ],
      "metadata": {
        "id": "GzrdSLi4uZi1"
      },
      "execution_count": null,
      "outputs": []
    },
    {
      "cell_type": "markdown",
      "source": [
        "## Hanojské věže\n",
        "\n",
        "trojice zásobníků\n",
        "\n",
        "- umožnuje odebírat poslední vložený prvek\n",
        "\n",
        "### zásobníky\n",
        "\n",
        " - soustava vzájmně spojených uzlů\n",
        " - začínají hlavičkou -> první uzel v pořadí\n",
        " - dvě záklaní operace -> push a pull"
      ],
      "metadata": {
        "id": "QKMMA2v-1L1f"
      }
    },
    {
      "cell_type": "code",
      "source": [
        "class Uzel:\n",
        "  # hodnota\n",
        "  # je_hlavičkou # přednastavena hodnota True\n",
        "  # další_prvek\n",
        "  def __init__(self,hodnota,je_hlavickou=True) -> None:\n",
        "    self.hodnota=hodnota\n",
        "    self.je_hlavickou=je_hlavickou\n",
        "    self.dalsi_prvek=None\n",
        "\n",
        "\n",
        "class Zasobnik:\n",
        "  #vlasnotsti:\n",
        "  #-> hlavicka\n",
        "  #-> pocet_hodnot\n",
        "  def __init__(self) -> None:\n",
        "    self.hlavicka=None\n",
        "    self.pocet_hodnot=0\n",
        "\n",
        "  #metody:\n",
        "  #->nabij - pridej hodnotu jako novou hlavičku\n",
        "  def nabij(self,hodnota):\n",
        "    \"\"\"pro hodnotu vytvoř nový uzel,\n",
        "       aktualní hlavičku zasobniku nastav na je_hlavičkou=False\n",
        "       aktualní hlavičku zasobniku nastav jako další prvek nového uzlu\n",
        "       novy uzel nastav jako hlavičku zasobniku\n",
        "       zvětši počet hodnot o 1\n",
        "    \"\"\"\n",
        "    uzel=Uzel(hodnota)\n",
        "    if self.hlavicka is None: # pokud je zatím zásobník prázdný\n",
        "      self.hlavicka=uzel\n",
        "      self.pocet_hodnot+=1\n",
        "    else:\n",
        "      self.hlavicka.je_hlavickou=False\n",
        "      uzel.dalsi_prvek=self.hlavicka\n",
        "      self.hlavicka=uzel\n",
        "      self.pocet_hodnot+=1\n",
        "\n",
        "  #->vybij - odeber hlavičku a vrať hodnotu\n",
        "  def vybij(self):\n",
        "    \"\"\"do nové promenne hodnota, ulož hodnotu z aktuální hlavičky zásobníku\n",
        "       aktuální hlavičku zásobníku přepiš jejím násladujícím prvkem\n",
        "       nově nastevené hlavičce změň vlastnost je_hlavičkou na True\n",
        "       zmenši počet hodnot o 1\n",
        "    \"\"\"\n",
        "    return hodnota"
      ],
      "metadata": {
        "id": "tXi9E3ju4UCk"
      },
      "execution_count": null,
      "outputs": []
    }
  ]
}