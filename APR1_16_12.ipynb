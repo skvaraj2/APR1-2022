{
  "nbformat": 4,
  "nbformat_minor": 0,
  "metadata": {
    "colab": {
      "provenance": [],
      "authorship_tag": "ABX9TyMp4nRMneH+mn3GhD/MKztK",
      "include_colab_link": true
    },
    "kernelspec": {
      "name": "python3",
      "display_name": "Python 3"
    },
    "language_info": {
      "name": "python"
    }
  },
  "cells": [
    {
      "cell_type": "markdown",
      "metadata": {
        "id": "view-in-github",
        "colab_type": "text"
      },
      "source": [
        "<a href=\"https://colab.research.google.com/github/skvaraj2/APR1-2022/blob/main/APR1_16_12.ipynb\" target=\"_parent\"><img src=\"https://colab.research.google.com/assets/colab-badge.svg\" alt=\"Open In Colab\"/></a>"
      ]
    },
    {
      "cell_type": "code",
      "execution_count": null,
      "metadata": {
        "colab": {
          "base_uri": "https://localhost:8080/"
        },
        "id": "cMTCkr--NVVi",
        "outputId": "9c4e1dd6-209c-4206-fde5-5d9b30628991"
      },
      "outputs": [
        {
          "output_type": "stream",
          "name": "stdout",
          "text": [
            "[2, 4, 8, 16, 32]\n"
          ]
        }
      ],
      "source": [
        "# zkuste vygenerovat seznam obsahující čísla [2 2^2 2^3 2^4 2^5]\n",
        "\n",
        "seznam=[]\n",
        "\n",
        "promenna = 5\n",
        "\n",
        "for i in range(promenna):\n",
        "  seznam.append(2**(i+1))\n",
        "\n",
        "print(seznam)"
      ]
    },
    {
      "cell_type": "code",
      "source": [
        "# řešení seznamovou komprehenzí\n",
        "promenna=5\n",
        "seznam=[ 2**(i+1) for i in range(promenna) ]\n",
        "print(seznam)"
      ],
      "metadata": {
        "colab": {
          "base_uri": "https://localhost:8080/"
        },
        "id": "eIoyMHIjQETO",
        "outputId": "2ec49250-61b7-46d3-ebc0-45067c6cffef"
      },
      "execution_count": null,
      "outputs": [
        {
          "output_type": "stream",
          "name": "stdout",
          "text": [
            "[2, 4, 8, 16, 32]\n"
          ]
        }
      ]
    },
    {
      "cell_type": "code",
      "source": [
        "#překlad vět pomocí slovníku\n",
        "slovnik = {\"kiss\":\"polib\", \"me\":\"mi\", \"goodby\":\"čau\"}\n",
        "\n",
        "def betterThanGoogleTranslate(text):\n",
        "  veta=\"\"\n",
        "  text=text.lower() # všechno na malá písmena\n",
        "  text2=\"\"\n",
        "  for znak in text: #odstranění nechtěných znaků\n",
        "    if znak.isalpha(): # kontrola, zda znak je z abecedy\n",
        "      text2+=znak\n",
        "    elif znak==\" \":\n",
        "      text2+=znak\n",
        "  text=text2\n",
        "\n",
        "  #vstupní text musíme rozdělit na jednotlivá slova podle mezery\n",
        "  slova=text.split() # seznam slov v textu\n",
        "\n",
        "  for slovo in slova:\n",
        "    if slovo in slovnik.keys(): \n",
        "      veta += slovnik[slovo]+\" \"\n",
        "    #pokud slovo není ve slovníku, přidáme do věty místo překladu otazníky\n",
        "    else:\n",
        "      veta+=\"??? \"\n",
        "\n",
        "  return veta\n",
        "\n",
        "\n",
        "preklad=betterThanGoogleTranslate(\"Kiss me, good buy\")\n",
        "#zapsat preklad do souboru\n",
        "with open(\"nazev_toho_souboru.txt\",\"w\") as soubor:\n",
        "  soubor.write(preklad)\n",
        "  \n"
      ],
      "metadata": {
        "id": "fznvLrXyQpaA"
      },
      "execution_count": null,
      "outputs": []
    },
    {
      "cell_type": "code",
      "source": [
        "seznam=[5,3,2,7,8,5,3,10,\"ahoj\",-5]\n",
        "\n",
        "#úkolem je všechny hodnoty zlogaritmovat\n",
        "\n",
        "import math\n",
        "for cislo in seznam:\n",
        "  try:\n",
        "    try:\n",
        "      print(math.log(cislo))\n",
        "    except TypeError:\n",
        "      #print(\"Ty blbé hovado, nekaž mi mé logaritmy\")\n",
        "      print(\"Ty blbé hovado, jak mám asi podle tebe logaritmovat slovo\")\n",
        "  except ValueError:\n",
        "    print(\"Ty blbé hovado, sám jsi negativní!\")"
      ],
      "metadata": {
        "colab": {
          "base_uri": "https://localhost:8080/"
        },
        "id": "091XCORjVYQA",
        "outputId": "a8446653-92d1-4975-fa0e-272c0b8455de"
      },
      "execution_count": null,
      "outputs": [
        {
          "output_type": "stream",
          "name": "stdout",
          "text": [
            "1.6094379124341003\n",
            "1.0986122886681098\n",
            "0.6931471805599453\n",
            "1.9459101490553132\n",
            "2.0794415416798357\n",
            "1.6094379124341003\n",
            "1.0986122886681098\n",
            "2.302585092994046\n",
            "Ty blbé hovado, jak mám asi podle tebe logaritmovat slovo\n",
            "Ty blbé hovado, sám jsi negativní!\n"
          ]
        }
      ]
    },
    {
      "cell_type": "code",
      "source": [
        "seznam=[5,3,2,7,8,5,3,10,\"ahoj\",-5]\n",
        "\n",
        "#úkolem je všechny hodnoty zlogaritmovat\n",
        "\n",
        "import math\n",
        "for cislo in seznam:\n",
        "  try:\n",
        "    print(math.log(cislo))\n",
        "  except Exception as chyba_voe: # ošetřujeme obecnou vyjimku a přiřadíme jí přezdívku.\n",
        "    \t# z té pak můžeme vypsat její vlastnost\n",
        "    print(\"Ty blbé hovado, nekaž mi mé logaritmy\")\n",
        "    print(chyba_voe.args)\n",
        "    "
      ],
      "metadata": {
        "id": "tCqhToEhcbZB"
      },
      "execution_count": null,
      "outputs": []
    },
    {
      "cell_type": "code",
      "source": [
        "# vytvoření vlastní vyjimecne situace\n",
        "import random\n",
        "def hodKostkou( pocetSten ):\n",
        "  seznamKostek=[2,4,6,10,12,20,100]\n",
        "  if pocetSten in seznamKostek:\n",
        "    hod=random.randint(1,pocetSten)\n",
        "    return hod\n",
        "  else:\n",
        "    raise Exception(\"zadaný počet stěn neodpovídá pravidlům hry\")\n",
        "\n",
        "\n",
        "try:\n",
        "  hod=hodKostkou(1)\n",
        "except:\n",
        "  print(\"Hodil jsi špatnou kostkou, přiletěl velký bílý drak a sežral tě. Vytvoř si novou postavu\")"
      ],
      "metadata": {
        "colab": {
          "base_uri": "https://localhost:8080/"
        },
        "id": "2NWt-4TAdFeK",
        "outputId": "26d62c2d-0256-4746-ee09-8ecaa7e5dc99"
      },
      "execution_count": null,
      "outputs": [
        {
          "output_type": "stream",
          "name": "stdout",
          "text": [
            "Hodil jsi špatnou kostkou, přiletěl velký bílý drak a sežral tě. Vytvoř si novou postavu\n"
          ]
        }
      ]
    },
    {
      "cell_type": "code",
      "source": [
        "#funkce pro vytvoření nové postavy\n",
        "# postava popsaná slovníkem, \n",
        "#klíče\n",
        "#\"jmeno postavy\" - generovat náhodně\n",
        "#\"síla\" - náhodné číslo 1,20\n",
        "#\"HP\" - náhodné číslo 1,10\n",
        "#\"štěstí\" - náhodné číslo -10, 10\n",
        "\n",
        "\n",
        "def vygenerujJmeno():\n",
        "  pismena=\"abcdefghijklmnopqrstuvwxyz\"\n",
        "  jmeno=\"\"\n",
        "  prijmeni=\"\"\n",
        "  \n",
        "  delkaJmena=random.randint(1,10) # pro jmeno a pak znovu pro prijmeni\n",
        "\n",
        "  if :\n",
        "    return jmeno+\"us \"+prijmeni+\"us\" #Gaius Bonus\n",
        "  else:\n",
        "    return jmeno+\"ix \"+prijmeni+\"ix\" #Alkoholix Anorektix\n",
        "\n",
        "def vytvorPostavu():\n",
        "  postava={}\n",
        "  return postava"
      ],
      "metadata": {
        "id": "vQU54Z_Afbsr"
      },
      "execution_count": null,
      "outputs": []
    }
  ]
}