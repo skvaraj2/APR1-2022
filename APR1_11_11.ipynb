{
  "nbformat": 4,
  "nbformat_minor": 0,
  "metadata": {
    "colab": {
      "provenance": [],
      "authorship_tag": "ABX9TyNbdENQJN4TAIn2CnJgNdZ7",
      "include_colab_link": true
    },
    "kernelspec": {
      "name": "python3",
      "display_name": "Python 3"
    },
    "language_info": {
      "name": "python"
    }
  },
  "cells": [
    {
      "cell_type": "markdown",
      "metadata": {
        "id": "view-in-github",
        "colab_type": "text"
      },
      "source": [
        "<a href=\"https://colab.research.google.com/github/skvaraj2/APR1-2022/blob/main/APR1_11_11.ipynb\" target=\"_parent\"><img src=\"https://colab.research.google.com/assets/colab-badge.svg\" alt=\"Open In Colab\"/></a>"
      ]
    },
    {
      "cell_type": "code",
      "execution_count": null,
      "metadata": {
        "colab": {
          "base_uri": "https://localhost:8080/"
        },
        "id": "IwSDr4Wq8lTP",
        "outputId": "2f4cb7ef-9877-4718-cfe0-fb6c8b91e5de"
      },
      "outputs": [
        {
          "output_type": "stream",
          "name": "stdout",
          "text": [
            "mockbyfifvkcixoconsfszyejofsmojkbs\n",
            "wymulipspfumshymyxcpcjiotypcwytulc\n"
          ]
        }
      ],
      "source": [
        "# Cesarova šifra\n",
        "\n",
        "def sifruj(text,klic):\n",
        "  \"\"\"\n",
        "  Funkce šifruje text Cesarovou šifrou. Každé písmeno je v abecedě \n",
        "  posunuto o počet pozic daný klíčem \n",
        "  \"\"\"\n",
        "\n",
        "  abeceda = \"abcdefghijklmnopqrstuvwxyz\"\n",
        "  zasifrovany_text=\"\"\n",
        "\n",
        "  #0) všechna písmena převést na malá\n",
        "  text=text.lower() # metoda sama nepřepisuje proměnnou, vytváří kopii objetku tu musíme uložit do proměnné\n",
        "  #1) projít každé písmeno textu => for budto přes index textu nebo přes konkrétní písmena\n",
        "  for pismeno in text:\n",
        "    if(pismeno.isalpha()): # isalpha vrací True, pokud znak patří do abecedy\n",
        "      #2) pro každé písmeno nalézt jeho index v abecedě => metoda .index\n",
        "      #print(pismeno,abeceda.index(pismeno))\n",
        "      index=abeceda.index(pismeno)\n",
        "      #3) k indexu přičteme klíč\n",
        "      #4) do zasifrovany_text přičteme písmeno z abecedy na indexu index+klic\n",
        "      #5) kontrola že index+klic je stále uvnitř abecedy => if index+klic>=len(abeceda):(index+klic)-len(abeceda)\n",
        "      if(klic>len(abeceda)):\n",
        "        print(\"Klíč je zbytečně velký\")\n",
        "        return \"\"\n",
        "      if index+klic >= len(abeceda):\n",
        "        index= index+klic-len(abeceda) \n",
        "      else:\n",
        "        index+=klic\n",
        "\n",
        "      zasifrovany_text+=abeceda[index]  \n",
        " \n",
        "  #6) vrátíme zasifrovaný text\n",
        "  return zasifrovany_text\n",
        "\n",
        "\n",
        "sifra=sifruj(\"Cesarovy vlasy nesedivi pouze vice zari 42\",10)\n",
        "print(sifra)\n",
        "print(sifruj(sifra,10))\n"
      ]
    },
    {
      "cell_type": "code",
      "source": [
        "print(sifra)\n",
        "\n",
        "#prolomení hrubou silou\n",
        "for klic in range(15):\n",
        "  print(klic, sifruj(sifra,-klic))\n"
      ],
      "metadata": {
        "id": "YCepqJcaDsyO"
      },
      "execution_count": null,
      "outputs": []
    },
    {
      "cell_type": "code",
      "source": [
        "# textové řetězce\n",
        "# \"a\" + \"b\" => \"ab\"\n",
        "#  3 * \"b\" => \"bbb\"\n",
        "#  text.index(pismeno) => vrací pozici prvního výskytu písmene v textu\n",
        "#  text.lower() => kopie textu převedeného na malá písmena\n",
        "#  text.upper() => kopie textu převedeného na velká písmena\n",
        "#  text.isalpha() => True pokud text obsahuje pouze písmena\n",
        "#  text.isalnum() => True pokud text obsahuje pouze písmena nebo čísla\n",
        "#  text.isdigit() => True pokud text obsahuje pouze čísla\n",
        "#  text.replace(\"a\",\"b\") => nahradí všechny znaky \"a\" znakem \"b\"\n",
        "#  text.split(oddelovač) => rozdělí text na seznam řetězců podle zadaného oddělovače"
      ],
      "metadata": {
        "id": "lzWik5ZsGFnk"
      },
      "execution_count": null,
      "outputs": []
    },
    {
      "cell_type": "code",
      "source": [
        "text=\"Přišel jsem se ucházet o princeznu Zlatovlásku. Copak Zlatovláska, ale jmelí...\"\n",
        "\n",
        "seznam_textu=text.split(\".\")\n",
        "\n",
        "seznam_textu[-1]=\"Všimli jste si doufám, co se letos urodilo jmelí.\"\n",
        "\n",
        "seznam_textu.append(\"Hrozně, v korunách stromů to vypadá jako nějaká orlí hnízda\") # append přidá nový záznam\n",
        "\n",
        "#odebírání ze seznamu\n",
        "seznam_textu.remove(\"\") # mazání podle hodnoty\n",
        "seznam_textu.pop(2) # odebírání podle indexu (odstraní se záznam na indexu 2)\n",
        "seznam_textu"
      ],
      "metadata": {
        "colab": {
          "base_uri": "https://localhost:8080/"
        },
        "id": "--LaOMjqHKE8",
        "outputId": "914d7083-a1a2-4bdb-f246-605c9fc650fa"
      },
      "execution_count": null,
      "outputs": [
        {
          "output_type": "execute_result",
          "data": {
            "text/plain": [
              "['Přišel jsem se ucházet o princeznu Zlatovlásku',\n",
              " ' Copak Zlatovláska, ale jmelí',\n",
              " 'Všimli jste si doufám, co se letos urodilo jmelí.',\n",
              " 'Hrozně, v korunách stromů to vypadá jako nějaká orlí hnízda']"
            ]
          },
          "metadata": {},
          "execution_count": 41
        }
      ]
    },
    {
      "cell_type": "code",
      "source": [
        "print(seznam_textu.pop()) # Zásobníkový přístup"
      ],
      "metadata": {
        "id": "e9TJeK5MJvp6"
      },
      "execution_count": null,
      "outputs": []
    },
    {
      "cell_type": "code",
      "source": [
        "#seznamy => umožňují ukládat libovolné datové typy\n",
        "#=> jednotlivé záznamy můžeme měnit\n",
        "#=> záznamy můžeme přidávat a odebírat"
      ],
      "metadata": {
        "id": "_UPeZcgQISqb"
      },
      "execution_count": null,
      "outputs": []
    },
    {
      "cell_type": "code",
      "source": [
        "#deklarace seznamu\n",
        "seznam_hodnot=[] # vytvoření prázdného seznamu\n",
        "#vygenerujte seznam obsahující násobky čísla 2 až do 100\n",
        "\n",
        "for i in range(2,102,2):\n",
        "  seznam_hodnot.append(i)\n",
        "\n",
        "print(seznam_hodnot)"
      ],
      "metadata": {
        "id": "MbElUdR1KHSD"
      },
      "execution_count": null,
      "outputs": []
    },
    {
      "cell_type": "code",
      "source": [
        "#seznamová komprehenze\n",
        "\n",
        "seznam_hodnot=[ i for i in range(2,102,2)]\n",
        "print(seznam_hodnot)"
      ],
      "metadata": {
        "id": "bjBzZnJ7Lbh6"
      },
      "execution_count": null,
      "outputs": []
    },
    {
      "cell_type": "code",
      "source": [
        "seznam_hodnot=[ i for i in range(1,101) if i%2==0]\n",
        "print(seznam_hodnot)"
      ],
      "metadata": {
        "colab": {
          "base_uri": "https://localhost:8080/"
        },
        "id": "UJHbltlTL2Dh",
        "outputId": "f42ec317-c961-46ed-8059-97d44e6e5069"
      },
      "execution_count": null,
      "outputs": [
        {
          "output_type": "stream",
          "name": "stdout",
          "text": [
            "[2, 4, 6, 8, 10, 12, 14, 16, 18, 20, 22, 24, 26, 28, 30, 32, 34, 36, 38, 40, 42, 44, 46, 48, 50, 52, 54, 56, 58, 60, 62, 64, 66, 68, 70, 72, 74, 76, 78, 80, 82, 84, 86, 88, 90, 92, 94, 96, 98, 100]\n"
          ]
        }
      ]
    },
    {
      "cell_type": "code",
      "source": [
        "#řezy / slice\n",
        "\n",
        "# prvních deset hodnot seznamu\n",
        "seznam_hodnot[0:10] # : udává rozsah indexace\n"
      ],
      "metadata": {
        "colab": {
          "base_uri": "https://localhost:8080/"
        },
        "id": "_GvGXhfYMLDJ",
        "outputId": "78c84028-e603-4d9d-ce8f-4b2527e6b33b"
      },
      "execution_count": null,
      "outputs": [
        {
          "output_type": "execute_result",
          "data": {
            "text/plain": [
              "[2, 4, 6, 8, 10, 12, 14, 16, 18, 20]"
            ]
          },
          "metadata": {},
          "execution_count": 51
        }
      ]
    },
    {
      "cell_type": "code",
      "source": [
        "seznam_hodnot[:] #kompletní výběr všech prvků"
      ],
      "metadata": {
        "id": "cZ0jfp4lMvVJ"
      },
      "execution_count": null,
      "outputs": []
    },
    {
      "cell_type": "code",
      "source": [
        "seznam_hodnot[:3]"
      ],
      "metadata": {
        "colab": {
          "base_uri": "https://localhost:8080/"
        },
        "id": "fAyKoym-M0fR",
        "outputId": "0aa2caf7-0416-40ea-924f-f309ab8d5ed7"
      },
      "execution_count": null,
      "outputs": [
        {
          "output_type": "execute_result",
          "data": {
            "text/plain": [
              "[2, 4, 6]"
            ]
          },
          "metadata": {},
          "execution_count": 53
        }
      ]
    },
    {
      "cell_type": "code",
      "source": [
        "seznam_hodnot[10:] # od desátého prvku až do konce seznamu"
      ],
      "metadata": {
        "id": "gO1XRBSrM4vA"
      },
      "execution_count": null,
      "outputs": []
    },
    {
      "cell_type": "code",
      "source": [
        "seznam_hodnot[::3] # výběr prvků seznamu od začátku do konce ale s krokem tři"
      ],
      "metadata": {
        "colab": {
          "base_uri": "https://localhost:8080/"
        },
        "id": "laD8RlK8M-yI",
        "outputId": "e96fb431-fdd6-4418-b456-adbb9fe8d60b"
      },
      "execution_count": null,
      "outputs": [
        {
          "output_type": "execute_result",
          "data": {
            "text/plain": [
              "[2, 8, 14, 20, 26, 32, 38, 44, 50, 56, 62, 68, 74, 80, 86, 92, 98]"
            ]
          },
          "metadata": {},
          "execution_count": 55
        }
      ]
    },
    {
      "cell_type": "code",
      "source": [
        "#black jack => snažím se jako hráč brát od počítače karty tak, abychom se přiblížili součtu 21\n",
        "# při překročení 21 prohrajeme\n",
        "# v cyklu se nás program zeptá, zda chceme kartu a nebo chceme skončit\n",
        "# pokud končíme => spočítá součet karet, sám si vygeneruje náhodně číslo 1-21 a porovná s naším součtem\n",
        "# pokud pokračujeme, náhodně vygeneruje kartu (vybere ji ze seznamu karet)\n",
        "# kontroluje zda jsme s novou kartou nepřekročili součet 21\n",
        "\n",
        "#J =>10\n",
        "#Q =>10\n",
        "#K =>10\n",
        "#A => 1 nebo 11 dle potřeby \n",
        "\n",
        "import random\n",
        "\n",
        "def secti_karty(kartyKSecteni):\n",
        "  soucet=0\n",
        "  return soucet\n",
        "\n",
        "\n",
        "karty=[2,3,4,5,6,7,8,9,10,\"J\",\"Q\",\"K\",\"A\"]\n",
        "\n",
        "moje_karty=[] #karty, které jsme si vytáhli\n",
        "\n",
        "while True: # vytvoření nekonečného cyklu\n",
        "  odpoved=input(\"Chcete kartu?\") # odpoved ano nebo ne\n",
        "  if(odpoved==\"ano\"):\n",
        "    #vygeneruje se náhodná karta\n",
        "    moje_karty.append(karty[random.randint(0,len(karty)-1)])\n",
        "    pass\n",
        "  else:\n",
        "    #spočítat součet mých karet\n",
        "    #protihráč si generuje vlastní součet karet\n",
        "    break # po vyhodnocení cyklus končí\n"
      ],
      "metadata": {
        "id": "8sxpjm2RNRg4"
      },
      "execution_count": null,
      "outputs": []
    },
    {
      "cell_type": "code",
      "source": [
        "def secti_karty(kartyKSecteni):\n",
        "  soucet=0\n",
        "  return soucet\n",
        "\n",
        "\n",
        "karty=[2,3,4,5,6,7,8,9,10,\"J\",\"Q\",\"K\",\"A\"]\n",
        "secti_karty(karty)"
      ],
      "metadata": {
        "id": "wtqLtB5qSm7G"
      },
      "execution_count": null,
      "outputs": []
    }
  ]
}